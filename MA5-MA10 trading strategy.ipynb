{
 "cells": [
  {
   "cell_type": "markdown",
   "metadata": {},
   "source": [
    "This notebook implements a two trading strategies, \"buy and hold\" where a stock is bought at the starting of a time interval and sold at the end of the time interval, and another trading strategy \"MA5-MA10\" where a stock is bought when there is a golden cross and is sold when there is death cross. Annualized volatility, Maximum drawdown and annualized return are calculated and compared for both the trading strtegies."
   ]
  },
  {
   "cell_type": "code",
   "execution_count": 7,
   "metadata": {},
   "outputs": [],
   "source": [
    "import numpy as np \n",
    "import pandas as pd\n",
    "\n",
    "import seaborn as sns\n",
    "import matplotlib.pyplot as plt\n",
    "import plotly.graph_objects as go"
   ]
  },
  {
   "cell_type": "code",
   "execution_count": 8,
   "metadata": {},
   "outputs": [],
   "source": [
    "path = \"C:\\\\Users\\\\ankita\\\\jupyter_notebooks\\\\RA\\\\txg01012020to06062020.csv\"\n",
    "data_TXG = pd.read_csv(path)\n",
    "#data_TXG = data_TXG.sort_values(by = ['Date'])"
   ]
  },
  {
   "cell_type": "code",
   "execution_count": 9,
   "metadata": {},
   "outputs": [],
   "source": [
    "def buy_to_hold(buy):\n",
    "    \n",
    "    hold = np.zeros(len(buy))\n",
    "    signal = 0\n",
    "    \n",
    "    for i in range(len(buy)):\n",
    "        if buy[i] == 1:\n",
    "            signal = 1\n",
    "        elif buy[i] == -1:\n",
    "            signal = 0\n",
    "        \n",
    "        hold[i] = signal\n",
    "    \n",
    "    return(hold)\n",
    "\n",
    "def annualized_volatility(val , daily_scale = 252):\n",
    "    \n",
    "    perc_daily_change = (np.diff(val)/val[:-1])\n",
    "    perc_daily_change = perc_daily_change[np.where(perc_daily_change!=0)[0]]\n",
    "    daily_volatality = np.std(perc_daily_change)\n",
    "    annual_volatality = daily_volatality*(daily_scale**(1/2))\n",
    "    \n",
    "    return(annual_volatality)\n",
    "\n",
    "def annualized_return(val, daily_scale = 252):\n",
    "    \n",
    "    diff = np.diff(val)\n",
    "    \n",
    "    buy_time_index = np.where(diff != 0)[0][0]\n",
    "    sell_time_index = np.where(diff != 0)[0][-1] + 1\n",
    "    interval = sell_time_index - buy_time_index + 1\n",
    "    \n",
    "    buy = val[buy_time_index]\n",
    "    sell = val[sell_time_index]\n",
    "    \n",
    "    return_rate = sell/buy\n",
    "    \n",
    "    \n",
    "    #print(interval)\n",
    "    #r = (return_rate + 1)**(252/interval) - 1\n",
    "    r = (return_rate)**(252/interval) - 1\n",
    "    \n",
    "    return(r*100)\n",
    "\n",
    "\n",
    "def MaximumDrawDown(val):\n",
    "    \n",
    "    high = val[0]\n",
    "    low = val[0]\n",
    "    MDD_max = 0\n",
    "    \n",
    "    for i in range(len(val)):\n",
    "        \n",
    "        if val[i] > high:\n",
    "            high = val[i]\n",
    "            high_changed = i\n",
    "            low = high\n",
    "        \n",
    "        if val[i] < low:\n",
    "            low = val[i]\n",
    "        \n",
    "        \n",
    "        if high != low:\n",
    "            MDD = (high - low)/high\n",
    "            \n",
    "            if MDD > MDD_max:\n",
    "                MDD_max = MDD\n",
    "    \n",
    "    return(MDD_max*100)\n",
    "\n",
    "\n",
    "def trade_MA(price, ma_fast = 5, ma_slow = 10):\n",
    "    \n",
    "    SMA_5 = price.rolling(window = ma_fast).mean()\n",
    "    SMA_10 = price.rolling(window = ma_slow).mean()\n",
    "    \n",
    "    difference = SMA_5.diff()\n",
    "    difference_rolling_sum = difference.rolling(window = 7).sum()\n",
    "    \n",
    "    #setting up the cross indicator \n",
    "    cross_indicator = [ 1 if ((SMA_5[i] <= SMA_10[i] and SMA_5[i+1] >= SMA_10[i+1]) or (SMA_5[i] >= SMA_10[i] and SMA_5[i+1] <= SMA_10[i+1])) else 0 for i in range(len(SMA_5) -1)]\n",
    "    \n",
    "    #checking if a cross might have occured in the past\n",
    "    diff_MA = SMA_5 - SMA_10\n",
    "    diff_MA = diff_MA[~np.isnan(diff_MA)]\n",
    "    \n",
    "    if all(i > 0 for i in diff_MA[:5]) == True or all(i < 0 for i in diff_MA[:5]) == True:\n",
    "        cross_past = 1\n",
    "    else:\n",
    "        cross_past = 0\n",
    "        \n",
    "    #setting up the trend indicator\n",
    "    #1 indicates an upward trend, -1 indicates a downward trend else 0\n",
    "    trend_indicator = [1 if i > 0 else -1 if i < 0 else 0 for i in difference_rolling_sum]\n",
    "    \n",
    "    cross = 0 #indicating if a cross occurred\n",
    "    trend_changed = 0 #indicating if trend changed direction\n",
    "    trend_direction = 0 #indicating the direction of trend\n",
    "    \n",
    "    buy_sell = np.zeros(len(price)) \n",
    "    \n",
    "    for i in range(len(cross_indicator)):\n",
    "        \n",
    "        trend_direction = trend_indicator[i]\n",
    "        \n",
    "        #if cross_indicator[i] == 1:\n",
    "            #cross = 1\n",
    "        if (i-2) >= 0 and (cross_indicator[i-2] == 1):\n",
    "            cross = 1\n",
    "        else:\n",
    "            cross = 0\n",
    "            \n",
    "            \n",
    "        if (cross == 1 or cross_past == 1) and trend_direction == 1:\n",
    "            cross_past = 0\n",
    "            buy_sell[i] = 1\n",
    "        elif (cross == 1 or cross_past == 1) and trend_direction == -1:\n",
    "            cross_past = 0\n",
    "            buy_sell[i] = -1\n",
    "        \n",
    "    hold = buy_to_hold(buy_sell)\n",
    "    \n",
    "    return(hold)\n",
    "\n",
    "def trade_buy_hold(time_point_buy, time_point_sell, price):\n",
    "    \n",
    "    #time_point_buy - list of all time points when the stock is bought\n",
    "    #time_point_sell - list of all time points when the stock is sold\n",
    "    #price - list of prices at all time points\n",
    "    \n",
    "    hold = np.zeros(len(price))\n",
    "    \n",
    "    for i,j in zip(time_point_buy,time_point_sell):\n",
    "        hold[i-1:j-1] = 1\n",
    "    \n",
    "    return(hold)\n",
    "\n",
    "def price2invest(hold,price,cash):\n",
    "    #returns the portfolio for a strategy\n",
    "    \n",
    "    portfolio = []\n",
    "    start = -1 #to indicate the time point when trading began\n",
    "    \n",
    "    if hold[0] == 1:\n",
    "        start = 0\n",
    "        shares = cash/price[0]\n",
    "        hold_price = shares*price[0]\n",
    "    else:\n",
    "        hold_price = cash\n",
    "        shares = 0\n",
    "    \n",
    "    portfolio.append(hold_price)\n",
    "    \n",
    "    for i in range(1,len(hold)):\n",
    "        \n",
    "        if hold[i-1] == 0 and hold[i] == 1:\n",
    "            if start == -1:\n",
    "                start = i\n",
    "            shares = cash/price[i]\n",
    "        \n",
    "        if hold[i] == 1:\n",
    "            hold_price = shares*price[i]\n",
    "            #cash = hold_price\n",
    "        if hold[i-1] == 1 and hold[i] == 0:\n",
    "            cash = shares*price[i]\n",
    "            hold_price = cash\n",
    "            #hold_price = price[i]\n",
    "        \n",
    "        portfolio.append(hold_price)\n",
    "    \n",
    "    \n",
    "    return(portfolio)"
   ]
  },
  {
   "cell_type": "code",
   "execution_count": 10,
   "metadata": {},
   "outputs": [
    {
     "name": "stdout",
     "output_type": "stream",
     "text": [
      "Trading Strategy MA\n",
      "annualized volatility 0.54610608183703\n",
      "annualized return 140.56747003976108\n",
      "maximum drawdown 19.76290792898485\n",
      "\n",
      "Trading Strategy buy hold\n",
      "annualized volatility 0.6100904447572698\n",
      "annualized return 33.309177785985234\n",
      "maximum drawdown 51.63196534518949\n"
     ]
    }
   ],
   "source": [
    "price = data_TXG['TXG.Adjusted']\n",
    "hold_MA = trade_MA(price)\n",
    "portfolio_MA = np.array(price2invest(hold_MA,price,price[0]))\n",
    "\n",
    "time_point_buy = [1]\n",
    "time_point_sell = [len(price)]\n",
    "hold_buyhold = trade_buy_hold(time_point_buy , time_point_sell, price)\n",
    "portfolio_buyhold = np.array(price2invest(hold_buyhold,price,price[0]))\n",
    "\n",
    "#annualized volatility\n",
    "annualized_volatility_MA = annualized_volatility(portfolio_MA)\n",
    "annualized_volatility_buyhold = annualized_volatility(portfolio_buyhold)\n",
    "\n",
    "#annualized return\n",
    "annualized_return_MA = annualized_return(portfolio_MA)\n",
    "annualized_return_buyhold = annualized_return(portfolio_buyhold)\n",
    "\n",
    "#Maximum DrawDown\n",
    "MDD_MA = MaximumDrawDown(portfolio_MA)\n",
    "MDD_buyhold = MaximumDrawDown(portfolio_buyhold)\n",
    "\n",
    "\n",
    "\n",
    "\n",
    "print(\"Trading Strategy MA\")\n",
    "print(\"annualized volatility\",annualized_volatility_MA)\n",
    "print(\"annualized return\",annualized_return_MA)\n",
    "print(\"maximum drawdown\",MDD_MA)\n",
    "print()\n",
    "print(\"Trading Strategy buy hold\")\n",
    "print(\"annualized volatility\",annualized_volatility_buyhold)\n",
    "print(\"annualized return\",annualized_return_buyhold)\n",
    "print(\"maximum drawdown\",MDD_buyhold)"
   ]
  },
  {
   "cell_type": "markdown",
   "metadata": {},
   "source": [
    "Plot for buy and hold trading strategy"
   ]
  },
  {
   "cell_type": "code",
   "execution_count": 17,
   "metadata": {},
   "outputs": [
    {
     "data": {
      "text/plain": [
       "True"
      ]
     },
     "execution_count": 17,
     "metadata": {},
     "output_type": "execute_result"
    }
   ],
   "source": [
    "len(portfolio_buyhold) == len(data_TXG['Date'])"
   ]
  },
  {
   "cell_type": "code",
   "execution_count": 23,
   "metadata": {},
   "outputs": [
    {
     "data": {
      "application/vnd.plotly.v1+json": {
       "config": {
        "plotlyServerURL": "https://plot.ly"
       },
       "data": [
        {
         "mode": "lines",
         "name": "Close price",
         "type": "scatter",
         "x": [
          "1/2/2020",
          "1/3/2020",
          "1/6/2020",
          "1/7/2020",
          "1/8/2020",
          "1/9/2020",
          "1/10/2020",
          "1/13/2020",
          "1/14/2020",
          "1/15/2020",
          "1/16/2020",
          "1/17/2020",
          "1/21/2020",
          "1/22/2020",
          "1/23/2020",
          "1/24/2020",
          "1/27/2020",
          "1/28/2020",
          "1/29/2020",
          "1/30/2020",
          "1/31/2020",
          "2/3/2020",
          "2/4/2020",
          "2/5/2020",
          "2/6/2020",
          "2/7/2020",
          "2/10/2020",
          "2/11/2020",
          "2/12/2020",
          "2/13/2020",
          "2/14/2020",
          "2/18/2020",
          "2/19/2020",
          "2/20/2020",
          "2/21/2020",
          "2/24/2020",
          "2/25/2020",
          "2/26/2020",
          "2/27/2020",
          "2/28/2020",
          "3/2/2020",
          "3/3/2020",
          "3/4/2020",
          "3/5/2020",
          "3/6/2020",
          "3/9/2020",
          "3/10/2020",
          "3/11/2020",
          "3/12/2020",
          "3/13/2020",
          "3/16/2020",
          "3/17/2020",
          "3/18/2020",
          "3/19/2020",
          "3/20/2020",
          "3/23/2020",
          "3/24/2020",
          "3/25/2020",
          "3/26/2020",
          "3/27/2020",
          "3/30/2020",
          "3/31/2020",
          "4/1/2020",
          "4/2/2020",
          "4/3/2020",
          "4/6/2020",
          "4/7/2020",
          "4/8/2020",
          "4/9/2020",
          "4/13/2020",
          "4/14/2020",
          "4/15/2020",
          "4/16/2020",
          "4/17/2020",
          "4/20/2020",
          "4/21/2020",
          "4/22/2020",
          "4/23/2020",
          "4/24/2020",
          "4/27/2020",
          "4/28/2020",
          "4/29/2020",
          "4/30/2020",
          "5/1/2020",
          "5/4/2020",
          "5/5/2020",
          "5/6/2020",
          "5/7/2020",
          "5/8/2020",
          "5/11/2020",
          "5/12/2020",
          "5/13/2020",
          "5/14/2020",
          "5/15/2020",
          "5/18/2020",
          "5/19/2020",
          "5/20/2020",
          "5/21/2020",
          "5/22/2020",
          "5/26/2020",
          "5/27/2020",
          "5/28/2020",
          "5/29/2020",
          "6/1/2020",
          "6/2/2020",
          "6/3/2020",
          "6/4/2020",
          "6/5/2020"
         ],
         "y": [
          72.83000200000001,
          75.559998,
          75.550003,
          75.980003,
          74.839996,
          77.16999799999999,
          79.75,
          83.720001,
          84.610001,
          85.800003,
          85.889999,
          83.629997,
          87.75,
          91.809998,
          95.059998,
          100.790001,
          103.209999,
          106.620003,
          99.290001,
          93.550003,
          91.389999,
          93.82,
          90.720001,
          92.010002,
          91.190002,
          88.980003,
          88.370003,
          87.25,
          86.660004,
          86.769997,
          92.57,
          90.220001,
          90.599998,
          85.440002,
          82,
          79.949997,
          73.57,
          75.18,
          72.730003,
          79.699997,
          79.370003,
          76.949997,
          77.41999799999999,
          72.589996,
          71.279999,
          65.290001,
          66.5,
          60.759997999999996,
          59.599998,
          57.360001000000004,
          55.549999,
          59.880001,
          58,
          55,
          55.779999,
          51.57,
          57.110001000000004,
          59.990002000000004,
          61.040001000000004,
          59.990002000000004,
          62.799999,
          62.32,
          58.389998999999996,
          59.740002000000004,
          58.689999,
          62.27,
          60.849998,
          64.32,
          65.91999799999999,
          64.889999,
          66.75,
          66.800003,
          68.5,
          71.160004,
          74.199997,
          74.58000200000001,
          76,
          73.940002,
          74,
          76.190002,
          76.260002,
          81.75,
          79.870003,
          78.410004,
          77.910004,
          78.16999799999999,
          78.699997,
          80.809998,
          82.959999,
          82.099998,
          82.589996,
          80.08000200000001,
          78.970001,
          77.949997,
          77.199997,
          78.199997,
          78,
          76,
          74.849998,
          76,
          77.660004,
          76.290001,
          77.970001,
          81.949997,
          80.5,
          85.910004,
          79.699997,
          82.379997
         ]
        },
        {
         "mode": "lines",
         "name": "hold price",
         "type": "scatter",
         "x": [
          "1/2/2020",
          "1/3/2020",
          "1/6/2020",
          "1/7/2020",
          "1/8/2020",
          "1/9/2020",
          "1/10/2020",
          "1/13/2020",
          "1/14/2020",
          "1/15/2020",
          "1/16/2020",
          "1/17/2020",
          "1/21/2020",
          "1/22/2020",
          "1/23/2020",
          "1/24/2020",
          "1/27/2020",
          "1/28/2020",
          "1/29/2020",
          "1/30/2020",
          "1/31/2020",
          "2/3/2020",
          "2/4/2020",
          "2/5/2020",
          "2/6/2020",
          "2/7/2020",
          "2/10/2020",
          "2/11/2020",
          "2/12/2020",
          "2/13/2020",
          "2/14/2020",
          "2/18/2020",
          "2/19/2020",
          "2/20/2020",
          "2/21/2020",
          "2/24/2020",
          "2/25/2020",
          "2/26/2020",
          "2/27/2020",
          "2/28/2020",
          "3/2/2020",
          "3/3/2020",
          "3/4/2020",
          "3/5/2020",
          "3/6/2020",
          "3/9/2020",
          "3/10/2020",
          "3/11/2020",
          "3/12/2020",
          "3/13/2020",
          "3/16/2020",
          "3/17/2020",
          "3/18/2020",
          "3/19/2020",
          "3/20/2020",
          "3/23/2020",
          "3/24/2020",
          "3/25/2020",
          "3/26/2020",
          "3/27/2020",
          "3/30/2020",
          "3/31/2020",
          "4/1/2020",
          "4/2/2020",
          "4/3/2020",
          "4/6/2020",
          "4/7/2020",
          "4/8/2020",
          "4/9/2020",
          "4/13/2020",
          "4/14/2020",
          "4/15/2020",
          "4/16/2020",
          "4/17/2020",
          "4/20/2020",
          "4/21/2020",
          "4/22/2020",
          "4/23/2020",
          "4/24/2020",
          "4/27/2020",
          "4/28/2020",
          "4/29/2020",
          "4/30/2020",
          "5/1/2020",
          "5/4/2020",
          "5/5/2020",
          "5/6/2020",
          "5/7/2020",
          "5/8/2020",
          "5/11/2020",
          "5/12/2020",
          "5/13/2020",
          "5/14/2020",
          "5/15/2020",
          "5/18/2020",
          "5/19/2020",
          "5/20/2020",
          "5/21/2020",
          "5/22/2020",
          "5/26/2020",
          "5/27/2020",
          "5/28/2020",
          "5/29/2020",
          "6/1/2020",
          "6/2/2020",
          "6/3/2020",
          "6/4/2020",
          "6/5/2020"
         ],
         "y": [
          72.83000200000001,
          75.559998,
          75.550003,
          75.980003,
          74.839996,
          77.16999799999999,
          79.75,
          83.720001,
          84.610001,
          85.800003,
          85.889999,
          83.629997,
          87.75,
          91.809998,
          95.059998,
          100.790001,
          103.209999,
          106.620003,
          99.290001,
          93.550003,
          91.389999,
          93.82,
          90.720001,
          92.010002,
          91.190002,
          88.980003,
          88.370003,
          87.25,
          86.660004,
          86.769997,
          92.57,
          90.220001,
          90.599998,
          85.440002,
          82,
          79.949997,
          73.57,
          75.18,
          72.730003,
          79.699997,
          79.370003,
          76.949997,
          77.41999799999999,
          72.589996,
          71.279999,
          65.290001,
          66.5,
          60.759997999999996,
          59.599998,
          57.360001000000004,
          55.549999,
          59.880001,
          58,
          55,
          55.779999,
          51.57,
          57.110001000000004,
          59.990002000000004,
          61.040001000000004,
          59.990002000000004,
          62.799999,
          62.32,
          58.389998999999996,
          59.740002000000004,
          58.689999,
          62.27,
          60.849998,
          64.32,
          65.91999799999999,
          64.889999,
          66.75,
          66.800003,
          68.5,
          71.160004,
          74.199997,
          74.58000200000001,
          76,
          73.940002,
          74,
          76.190002,
          76.260002,
          81.75,
          79.870003,
          78.410004,
          77.910004,
          78.16999799999999,
          78.699997,
          80.809998,
          82.959999,
          82.099998,
          82.589996,
          80.08000200000001,
          78.970001,
          77.949997,
          77.199997,
          78.199997,
          78,
          76,
          74.849998,
          76,
          77.660004,
          76.290001,
          77.970001,
          81.949997,
          80.5,
          85.910004,
          79.699997,
          82.379997
         ]
        }
       ],
       "layout": {
        "autosize": false,
        "height": 500,
        "template": {
         "data": {
          "bar": [
           {
            "error_x": {
             "color": "#2a3f5f"
            },
            "error_y": {
             "color": "#2a3f5f"
            },
            "marker": {
             "line": {
              "color": "#E5ECF6",
              "width": 0.5
             }
            },
            "type": "bar"
           }
          ],
          "barpolar": [
           {
            "marker": {
             "line": {
              "color": "#E5ECF6",
              "width": 0.5
             }
            },
            "type": "barpolar"
           }
          ],
          "carpet": [
           {
            "aaxis": {
             "endlinecolor": "#2a3f5f",
             "gridcolor": "white",
             "linecolor": "white",
             "minorgridcolor": "white",
             "startlinecolor": "#2a3f5f"
            },
            "baxis": {
             "endlinecolor": "#2a3f5f",
             "gridcolor": "white",
             "linecolor": "white",
             "minorgridcolor": "white",
             "startlinecolor": "#2a3f5f"
            },
            "type": "carpet"
           }
          ],
          "choropleth": [
           {
            "colorbar": {
             "outlinewidth": 0,
             "ticks": ""
            },
            "type": "choropleth"
           }
          ],
          "contour": [
           {
            "colorbar": {
             "outlinewidth": 0,
             "ticks": ""
            },
            "colorscale": [
             [
              0,
              "#0d0887"
             ],
             [
              0.1111111111111111,
              "#46039f"
             ],
             [
              0.2222222222222222,
              "#7201a8"
             ],
             [
              0.3333333333333333,
              "#9c179e"
             ],
             [
              0.4444444444444444,
              "#bd3786"
             ],
             [
              0.5555555555555556,
              "#d8576b"
             ],
             [
              0.6666666666666666,
              "#ed7953"
             ],
             [
              0.7777777777777778,
              "#fb9f3a"
             ],
             [
              0.8888888888888888,
              "#fdca26"
             ],
             [
              1,
              "#f0f921"
             ]
            ],
            "type": "contour"
           }
          ],
          "contourcarpet": [
           {
            "colorbar": {
             "outlinewidth": 0,
             "ticks": ""
            },
            "type": "contourcarpet"
           }
          ],
          "heatmap": [
           {
            "colorbar": {
             "outlinewidth": 0,
             "ticks": ""
            },
            "colorscale": [
             [
              0,
              "#0d0887"
             ],
             [
              0.1111111111111111,
              "#46039f"
             ],
             [
              0.2222222222222222,
              "#7201a8"
             ],
             [
              0.3333333333333333,
              "#9c179e"
             ],
             [
              0.4444444444444444,
              "#bd3786"
             ],
             [
              0.5555555555555556,
              "#d8576b"
             ],
             [
              0.6666666666666666,
              "#ed7953"
             ],
             [
              0.7777777777777778,
              "#fb9f3a"
             ],
             [
              0.8888888888888888,
              "#fdca26"
             ],
             [
              1,
              "#f0f921"
             ]
            ],
            "type": "heatmap"
           }
          ],
          "heatmapgl": [
           {
            "colorbar": {
             "outlinewidth": 0,
             "ticks": ""
            },
            "colorscale": [
             [
              0,
              "#0d0887"
             ],
             [
              0.1111111111111111,
              "#46039f"
             ],
             [
              0.2222222222222222,
              "#7201a8"
             ],
             [
              0.3333333333333333,
              "#9c179e"
             ],
             [
              0.4444444444444444,
              "#bd3786"
             ],
             [
              0.5555555555555556,
              "#d8576b"
             ],
             [
              0.6666666666666666,
              "#ed7953"
             ],
             [
              0.7777777777777778,
              "#fb9f3a"
             ],
             [
              0.8888888888888888,
              "#fdca26"
             ],
             [
              1,
              "#f0f921"
             ]
            ],
            "type": "heatmapgl"
           }
          ],
          "histogram": [
           {
            "marker": {
             "colorbar": {
              "outlinewidth": 0,
              "ticks": ""
             }
            },
            "type": "histogram"
           }
          ],
          "histogram2d": [
           {
            "colorbar": {
             "outlinewidth": 0,
             "ticks": ""
            },
            "colorscale": [
             [
              0,
              "#0d0887"
             ],
             [
              0.1111111111111111,
              "#46039f"
             ],
             [
              0.2222222222222222,
              "#7201a8"
             ],
             [
              0.3333333333333333,
              "#9c179e"
             ],
             [
              0.4444444444444444,
              "#bd3786"
             ],
             [
              0.5555555555555556,
              "#d8576b"
             ],
             [
              0.6666666666666666,
              "#ed7953"
             ],
             [
              0.7777777777777778,
              "#fb9f3a"
             ],
             [
              0.8888888888888888,
              "#fdca26"
             ],
             [
              1,
              "#f0f921"
             ]
            ],
            "type": "histogram2d"
           }
          ],
          "histogram2dcontour": [
           {
            "colorbar": {
             "outlinewidth": 0,
             "ticks": ""
            },
            "colorscale": [
             [
              0,
              "#0d0887"
             ],
             [
              0.1111111111111111,
              "#46039f"
             ],
             [
              0.2222222222222222,
              "#7201a8"
             ],
             [
              0.3333333333333333,
              "#9c179e"
             ],
             [
              0.4444444444444444,
              "#bd3786"
             ],
             [
              0.5555555555555556,
              "#d8576b"
             ],
             [
              0.6666666666666666,
              "#ed7953"
             ],
             [
              0.7777777777777778,
              "#fb9f3a"
             ],
             [
              0.8888888888888888,
              "#fdca26"
             ],
             [
              1,
              "#f0f921"
             ]
            ],
            "type": "histogram2dcontour"
           }
          ],
          "mesh3d": [
           {
            "colorbar": {
             "outlinewidth": 0,
             "ticks": ""
            },
            "type": "mesh3d"
           }
          ],
          "parcoords": [
           {
            "line": {
             "colorbar": {
              "outlinewidth": 0,
              "ticks": ""
             }
            },
            "type": "parcoords"
           }
          ],
          "pie": [
           {
            "automargin": true,
            "type": "pie"
           }
          ],
          "scatter": [
           {
            "marker": {
             "colorbar": {
              "outlinewidth": 0,
              "ticks": ""
             }
            },
            "type": "scatter"
           }
          ],
          "scatter3d": [
           {
            "line": {
             "colorbar": {
              "outlinewidth": 0,
              "ticks": ""
             }
            },
            "marker": {
             "colorbar": {
              "outlinewidth": 0,
              "ticks": ""
             }
            },
            "type": "scatter3d"
           }
          ],
          "scattercarpet": [
           {
            "marker": {
             "colorbar": {
              "outlinewidth": 0,
              "ticks": ""
             }
            },
            "type": "scattercarpet"
           }
          ],
          "scattergeo": [
           {
            "marker": {
             "colorbar": {
              "outlinewidth": 0,
              "ticks": ""
             }
            },
            "type": "scattergeo"
           }
          ],
          "scattergl": [
           {
            "marker": {
             "colorbar": {
              "outlinewidth": 0,
              "ticks": ""
             }
            },
            "type": "scattergl"
           }
          ],
          "scattermapbox": [
           {
            "marker": {
             "colorbar": {
              "outlinewidth": 0,
              "ticks": ""
             }
            },
            "type": "scattermapbox"
           }
          ],
          "scatterpolar": [
           {
            "marker": {
             "colorbar": {
              "outlinewidth": 0,
              "ticks": ""
             }
            },
            "type": "scatterpolar"
           }
          ],
          "scatterpolargl": [
           {
            "marker": {
             "colorbar": {
              "outlinewidth": 0,
              "ticks": ""
             }
            },
            "type": "scatterpolargl"
           }
          ],
          "scatterternary": [
           {
            "marker": {
             "colorbar": {
              "outlinewidth": 0,
              "ticks": ""
             }
            },
            "type": "scatterternary"
           }
          ],
          "surface": [
           {
            "colorbar": {
             "outlinewidth": 0,
             "ticks": ""
            },
            "colorscale": [
             [
              0,
              "#0d0887"
             ],
             [
              0.1111111111111111,
              "#46039f"
             ],
             [
              0.2222222222222222,
              "#7201a8"
             ],
             [
              0.3333333333333333,
              "#9c179e"
             ],
             [
              0.4444444444444444,
              "#bd3786"
             ],
             [
              0.5555555555555556,
              "#d8576b"
             ],
             [
              0.6666666666666666,
              "#ed7953"
             ],
             [
              0.7777777777777778,
              "#fb9f3a"
             ],
             [
              0.8888888888888888,
              "#fdca26"
             ],
             [
              1,
              "#f0f921"
             ]
            ],
            "type": "surface"
           }
          ],
          "table": [
           {
            "cells": {
             "fill": {
              "color": "#EBF0F8"
             },
             "line": {
              "color": "white"
             }
            },
            "header": {
             "fill": {
              "color": "#C8D4E3"
             },
             "line": {
              "color": "white"
             }
            },
            "type": "table"
           }
          ]
         },
         "layout": {
          "annotationdefaults": {
           "arrowcolor": "#2a3f5f",
           "arrowhead": 0,
           "arrowwidth": 1
          },
          "coloraxis": {
           "colorbar": {
            "outlinewidth": 0,
            "ticks": ""
           }
          },
          "colorscale": {
           "diverging": [
            [
             0,
             "#8e0152"
            ],
            [
             0.1,
             "#c51b7d"
            ],
            [
             0.2,
             "#de77ae"
            ],
            [
             0.3,
             "#f1b6da"
            ],
            [
             0.4,
             "#fde0ef"
            ],
            [
             0.5,
             "#f7f7f7"
            ],
            [
             0.6,
             "#e6f5d0"
            ],
            [
             0.7,
             "#b8e186"
            ],
            [
             0.8,
             "#7fbc41"
            ],
            [
             0.9,
             "#4d9221"
            ],
            [
             1,
             "#276419"
            ]
           ],
           "sequential": [
            [
             0,
             "#0d0887"
            ],
            [
             0.1111111111111111,
             "#46039f"
            ],
            [
             0.2222222222222222,
             "#7201a8"
            ],
            [
             0.3333333333333333,
             "#9c179e"
            ],
            [
             0.4444444444444444,
             "#bd3786"
            ],
            [
             0.5555555555555556,
             "#d8576b"
            ],
            [
             0.6666666666666666,
             "#ed7953"
            ],
            [
             0.7777777777777778,
             "#fb9f3a"
            ],
            [
             0.8888888888888888,
             "#fdca26"
            ],
            [
             1,
             "#f0f921"
            ]
           ],
           "sequentialminus": [
            [
             0,
             "#0d0887"
            ],
            [
             0.1111111111111111,
             "#46039f"
            ],
            [
             0.2222222222222222,
             "#7201a8"
            ],
            [
             0.3333333333333333,
             "#9c179e"
            ],
            [
             0.4444444444444444,
             "#bd3786"
            ],
            [
             0.5555555555555556,
             "#d8576b"
            ],
            [
             0.6666666666666666,
             "#ed7953"
            ],
            [
             0.7777777777777778,
             "#fb9f3a"
            ],
            [
             0.8888888888888888,
             "#fdca26"
            ],
            [
             1,
             "#f0f921"
            ]
           ]
          },
          "colorway": [
           "#636efa",
           "#EF553B",
           "#00cc96",
           "#ab63fa",
           "#FFA15A",
           "#19d3f3",
           "#FF6692",
           "#B6E880",
           "#FF97FF",
           "#FECB52"
          ],
          "font": {
           "color": "#2a3f5f"
          },
          "geo": {
           "bgcolor": "white",
           "lakecolor": "white",
           "landcolor": "#E5ECF6",
           "showlakes": true,
           "showland": true,
           "subunitcolor": "white"
          },
          "hoverlabel": {
           "align": "left"
          },
          "hovermode": "closest",
          "mapbox": {
           "style": "light"
          },
          "paper_bgcolor": "white",
          "plot_bgcolor": "#E5ECF6",
          "polar": {
           "angularaxis": {
            "gridcolor": "white",
            "linecolor": "white",
            "ticks": ""
           },
           "bgcolor": "#E5ECF6",
           "radialaxis": {
            "gridcolor": "white",
            "linecolor": "white",
            "ticks": ""
           }
          },
          "scene": {
           "xaxis": {
            "backgroundcolor": "#E5ECF6",
            "gridcolor": "white",
            "gridwidth": 2,
            "linecolor": "white",
            "showbackground": true,
            "ticks": "",
            "zerolinecolor": "white"
           },
           "yaxis": {
            "backgroundcolor": "#E5ECF6",
            "gridcolor": "white",
            "gridwidth": 2,
            "linecolor": "white",
            "showbackground": true,
            "ticks": "",
            "zerolinecolor": "white"
           },
           "zaxis": {
            "backgroundcolor": "#E5ECF6",
            "gridcolor": "white",
            "gridwidth": 2,
            "linecolor": "white",
            "showbackground": true,
            "ticks": "",
            "zerolinecolor": "white"
           }
          },
          "shapedefaults": {
           "line": {
            "color": "#2a3f5f"
           }
          },
          "ternary": {
           "aaxis": {
            "gridcolor": "white",
            "linecolor": "white",
            "ticks": ""
           },
           "baxis": {
            "gridcolor": "white",
            "linecolor": "white",
            "ticks": ""
           },
           "bgcolor": "#E5ECF6",
           "caxis": {
            "gridcolor": "white",
            "linecolor": "white",
            "ticks": ""
           }
          },
          "title": {
           "x": 0.05
          },
          "xaxis": {
           "automargin": true,
           "gridcolor": "white",
           "linecolor": "white",
           "ticks": "",
           "title": {
            "standoff": 15
           },
           "zerolinecolor": "white",
           "zerolinewidth": 2
          },
          "yaxis": {
           "automargin": true,
           "gridcolor": "white",
           "linecolor": "white",
           "ticks": "",
           "title": {
            "standoff": 15
           },
           "zerolinecolor": "white",
           "zerolinewidth": 2
          }
         }
        },
        "title": {
         "text": "TXG",
         "x": 0.5,
         "xanchor": "center",
         "y": 0.9,
         "yanchor": "top"
        },
        "width": 800,
        "yaxis": {
         "title": {
          "text": "Price"
         }
        }
       }
      },
      "text/html": [
       "<div>\n",
       "        \n",
       "        \n",
       "            <div id=\"2f736f9c-6e07-4228-b4c9-70e90ca93a0a\" class=\"plotly-graph-div\" style=\"height:500px; width:800px;\"></div>\n",
       "            <script type=\"text/javascript\">\n",
       "                require([\"plotly\"], function(Plotly) {\n",
       "                    window.PLOTLYENV=window.PLOTLYENV || {};\n",
       "                    \n",
       "                if (document.getElementById(\"2f736f9c-6e07-4228-b4c9-70e90ca93a0a\")) {\n",
       "                    Plotly.newPlot(\n",
       "                        '2f736f9c-6e07-4228-b4c9-70e90ca93a0a',\n",
       "                        [{\"mode\": \"lines\", \"name\": \"Close price\", \"type\": \"scatter\", \"x\": [\"1/2/2020\", \"1/3/2020\", \"1/6/2020\", \"1/7/2020\", \"1/8/2020\", \"1/9/2020\", \"1/10/2020\", \"1/13/2020\", \"1/14/2020\", \"1/15/2020\", \"1/16/2020\", \"1/17/2020\", \"1/21/2020\", \"1/22/2020\", \"1/23/2020\", \"1/24/2020\", \"1/27/2020\", \"1/28/2020\", \"1/29/2020\", \"1/30/2020\", \"1/31/2020\", \"2/3/2020\", \"2/4/2020\", \"2/5/2020\", \"2/6/2020\", \"2/7/2020\", \"2/10/2020\", \"2/11/2020\", \"2/12/2020\", \"2/13/2020\", \"2/14/2020\", \"2/18/2020\", \"2/19/2020\", \"2/20/2020\", \"2/21/2020\", \"2/24/2020\", \"2/25/2020\", \"2/26/2020\", \"2/27/2020\", \"2/28/2020\", \"3/2/2020\", \"3/3/2020\", \"3/4/2020\", \"3/5/2020\", \"3/6/2020\", \"3/9/2020\", \"3/10/2020\", \"3/11/2020\", \"3/12/2020\", \"3/13/2020\", \"3/16/2020\", \"3/17/2020\", \"3/18/2020\", \"3/19/2020\", \"3/20/2020\", \"3/23/2020\", \"3/24/2020\", \"3/25/2020\", \"3/26/2020\", \"3/27/2020\", \"3/30/2020\", \"3/31/2020\", \"4/1/2020\", \"4/2/2020\", \"4/3/2020\", \"4/6/2020\", \"4/7/2020\", \"4/8/2020\", \"4/9/2020\", \"4/13/2020\", \"4/14/2020\", \"4/15/2020\", \"4/16/2020\", \"4/17/2020\", \"4/20/2020\", \"4/21/2020\", \"4/22/2020\", \"4/23/2020\", \"4/24/2020\", \"4/27/2020\", \"4/28/2020\", \"4/29/2020\", \"4/30/2020\", \"5/1/2020\", \"5/4/2020\", \"5/5/2020\", \"5/6/2020\", \"5/7/2020\", \"5/8/2020\", \"5/11/2020\", \"5/12/2020\", \"5/13/2020\", \"5/14/2020\", \"5/15/2020\", \"5/18/2020\", \"5/19/2020\", \"5/20/2020\", \"5/21/2020\", \"5/22/2020\", \"5/26/2020\", \"5/27/2020\", \"5/28/2020\", \"5/29/2020\", \"6/1/2020\", \"6/2/2020\", \"6/3/2020\", \"6/4/2020\", \"6/5/2020\"], \"y\": [72.83000200000001, 75.559998, 75.550003, 75.980003, 74.839996, 77.16999799999999, 79.75, 83.720001, 84.610001, 85.800003, 85.889999, 83.629997, 87.75, 91.809998, 95.059998, 100.790001, 103.209999, 106.620003, 99.290001, 93.550003, 91.389999, 93.82, 90.720001, 92.010002, 91.190002, 88.980003, 88.370003, 87.25, 86.660004, 86.769997, 92.57, 90.220001, 90.599998, 85.440002, 82.0, 79.949997, 73.57, 75.18, 72.730003, 79.699997, 79.370003, 76.949997, 77.41999799999999, 72.589996, 71.279999, 65.290001, 66.5, 60.759997999999996, 59.599998, 57.360001000000004, 55.549999, 59.880001, 58.0, 55.0, 55.779999, 51.57, 57.110001000000004, 59.990002000000004, 61.040001000000004, 59.990002000000004, 62.799999, 62.32, 58.389998999999996, 59.740002000000004, 58.689999, 62.27, 60.849998, 64.32, 65.91999799999999, 64.889999, 66.75, 66.800003, 68.5, 71.160004, 74.199997, 74.58000200000001, 76.0, 73.940002, 74.0, 76.190002, 76.260002, 81.75, 79.870003, 78.410004, 77.910004, 78.16999799999999, 78.699997, 80.809998, 82.959999, 82.099998, 82.589996, 80.08000200000001, 78.970001, 77.949997, 77.199997, 78.199997, 78.0, 76.0, 74.849998, 76.0, 77.660004, 76.290001, 77.970001, 81.949997, 80.5, 85.910004, 79.699997, 82.379997]}, {\"mode\": \"lines\", \"name\": \"hold price\", \"type\": \"scatter\", \"x\": [\"1/2/2020\", \"1/3/2020\", \"1/6/2020\", \"1/7/2020\", \"1/8/2020\", \"1/9/2020\", \"1/10/2020\", \"1/13/2020\", \"1/14/2020\", \"1/15/2020\", \"1/16/2020\", \"1/17/2020\", \"1/21/2020\", \"1/22/2020\", \"1/23/2020\", \"1/24/2020\", \"1/27/2020\", \"1/28/2020\", \"1/29/2020\", \"1/30/2020\", \"1/31/2020\", \"2/3/2020\", \"2/4/2020\", \"2/5/2020\", \"2/6/2020\", \"2/7/2020\", \"2/10/2020\", \"2/11/2020\", \"2/12/2020\", \"2/13/2020\", \"2/14/2020\", \"2/18/2020\", \"2/19/2020\", \"2/20/2020\", \"2/21/2020\", \"2/24/2020\", \"2/25/2020\", \"2/26/2020\", \"2/27/2020\", \"2/28/2020\", \"3/2/2020\", \"3/3/2020\", \"3/4/2020\", \"3/5/2020\", \"3/6/2020\", \"3/9/2020\", \"3/10/2020\", \"3/11/2020\", \"3/12/2020\", \"3/13/2020\", \"3/16/2020\", \"3/17/2020\", \"3/18/2020\", \"3/19/2020\", \"3/20/2020\", \"3/23/2020\", \"3/24/2020\", \"3/25/2020\", \"3/26/2020\", \"3/27/2020\", \"3/30/2020\", \"3/31/2020\", \"4/1/2020\", \"4/2/2020\", \"4/3/2020\", \"4/6/2020\", \"4/7/2020\", \"4/8/2020\", \"4/9/2020\", \"4/13/2020\", \"4/14/2020\", \"4/15/2020\", \"4/16/2020\", \"4/17/2020\", \"4/20/2020\", \"4/21/2020\", \"4/22/2020\", \"4/23/2020\", \"4/24/2020\", \"4/27/2020\", \"4/28/2020\", \"4/29/2020\", \"4/30/2020\", \"5/1/2020\", \"5/4/2020\", \"5/5/2020\", \"5/6/2020\", \"5/7/2020\", \"5/8/2020\", \"5/11/2020\", \"5/12/2020\", \"5/13/2020\", \"5/14/2020\", \"5/15/2020\", \"5/18/2020\", \"5/19/2020\", \"5/20/2020\", \"5/21/2020\", \"5/22/2020\", \"5/26/2020\", \"5/27/2020\", \"5/28/2020\", \"5/29/2020\", \"6/1/2020\", \"6/2/2020\", \"6/3/2020\", \"6/4/2020\", \"6/5/2020\"], \"y\": [72.83000200000001, 75.559998, 75.550003, 75.980003, 74.839996, 77.16999799999999, 79.75, 83.720001, 84.610001, 85.800003, 85.889999, 83.629997, 87.75, 91.809998, 95.059998, 100.790001, 103.209999, 106.620003, 99.290001, 93.550003, 91.389999, 93.82, 90.720001, 92.010002, 91.190002, 88.980003, 88.370003, 87.25, 86.660004, 86.769997, 92.57, 90.220001, 90.599998, 85.440002, 82.0, 79.949997, 73.57, 75.18, 72.730003, 79.699997, 79.370003, 76.949997, 77.41999799999999, 72.589996, 71.279999, 65.290001, 66.5, 60.759997999999996, 59.599998, 57.360001000000004, 55.549999, 59.880001, 58.0, 55.0, 55.779999, 51.57, 57.110001000000004, 59.990002000000004, 61.040001000000004, 59.990002000000004, 62.799999, 62.32, 58.389998999999996, 59.740002000000004, 58.689999, 62.27, 60.849998, 64.32, 65.91999799999999, 64.889999, 66.75, 66.800003, 68.5, 71.160004, 74.199997, 74.58000200000001, 76.0, 73.940002, 74.0, 76.190002, 76.260002, 81.75, 79.870003, 78.410004, 77.910004, 78.16999799999999, 78.699997, 80.809998, 82.959999, 82.099998, 82.589996, 80.08000200000001, 78.970001, 77.949997, 77.199997, 78.199997, 78.0, 76.0, 74.849998, 76.0, 77.660004, 76.290001, 77.970001, 81.949997, 80.5, 85.910004, 79.699997, 82.379997]}],\n",
       "                        {\"autosize\": false, \"height\": 500, \"template\": {\"data\": {\"bar\": [{\"error_x\": {\"color\": \"#2a3f5f\"}, \"error_y\": {\"color\": \"#2a3f5f\"}, \"marker\": {\"line\": {\"color\": \"#E5ECF6\", \"width\": 0.5}}, \"type\": \"bar\"}], \"barpolar\": [{\"marker\": {\"line\": {\"color\": \"#E5ECF6\", \"width\": 0.5}}, \"type\": \"barpolar\"}], \"carpet\": [{\"aaxis\": {\"endlinecolor\": \"#2a3f5f\", \"gridcolor\": \"white\", \"linecolor\": \"white\", \"minorgridcolor\": \"white\", \"startlinecolor\": \"#2a3f5f\"}, \"baxis\": {\"endlinecolor\": \"#2a3f5f\", \"gridcolor\": \"white\", \"linecolor\": \"white\", \"minorgridcolor\": \"white\", \"startlinecolor\": \"#2a3f5f\"}, \"type\": \"carpet\"}], \"choropleth\": [{\"colorbar\": {\"outlinewidth\": 0, \"ticks\": \"\"}, \"type\": \"choropleth\"}], \"contour\": [{\"colorbar\": {\"outlinewidth\": 0, \"ticks\": \"\"}, \"colorscale\": [[0.0, \"#0d0887\"], [0.1111111111111111, \"#46039f\"], [0.2222222222222222, \"#7201a8\"], [0.3333333333333333, \"#9c179e\"], [0.4444444444444444, \"#bd3786\"], [0.5555555555555556, \"#d8576b\"], [0.6666666666666666, \"#ed7953\"], [0.7777777777777778, \"#fb9f3a\"], [0.8888888888888888, \"#fdca26\"], [1.0, \"#f0f921\"]], \"type\": \"contour\"}], \"contourcarpet\": [{\"colorbar\": {\"outlinewidth\": 0, \"ticks\": \"\"}, \"type\": \"contourcarpet\"}], \"heatmap\": [{\"colorbar\": {\"outlinewidth\": 0, \"ticks\": \"\"}, \"colorscale\": [[0.0, \"#0d0887\"], [0.1111111111111111, \"#46039f\"], [0.2222222222222222, \"#7201a8\"], [0.3333333333333333, \"#9c179e\"], [0.4444444444444444, \"#bd3786\"], [0.5555555555555556, \"#d8576b\"], [0.6666666666666666, \"#ed7953\"], [0.7777777777777778, \"#fb9f3a\"], [0.8888888888888888, \"#fdca26\"], [1.0, \"#f0f921\"]], \"type\": \"heatmap\"}], \"heatmapgl\": [{\"colorbar\": {\"outlinewidth\": 0, \"ticks\": \"\"}, \"colorscale\": [[0.0, \"#0d0887\"], [0.1111111111111111, \"#46039f\"], [0.2222222222222222, \"#7201a8\"], [0.3333333333333333, \"#9c179e\"], [0.4444444444444444, \"#bd3786\"], [0.5555555555555556, \"#d8576b\"], [0.6666666666666666, \"#ed7953\"], [0.7777777777777778, \"#fb9f3a\"], [0.8888888888888888, \"#fdca26\"], [1.0, \"#f0f921\"]], \"type\": \"heatmapgl\"}], \"histogram\": [{\"marker\": {\"colorbar\": {\"outlinewidth\": 0, \"ticks\": \"\"}}, \"type\": \"histogram\"}], \"histogram2d\": [{\"colorbar\": {\"outlinewidth\": 0, \"ticks\": \"\"}, \"colorscale\": [[0.0, \"#0d0887\"], [0.1111111111111111, \"#46039f\"], [0.2222222222222222, \"#7201a8\"], [0.3333333333333333, \"#9c179e\"], [0.4444444444444444, \"#bd3786\"], [0.5555555555555556, \"#d8576b\"], [0.6666666666666666, \"#ed7953\"], [0.7777777777777778, \"#fb9f3a\"], [0.8888888888888888, \"#fdca26\"], [1.0, \"#f0f921\"]], \"type\": \"histogram2d\"}], \"histogram2dcontour\": [{\"colorbar\": {\"outlinewidth\": 0, \"ticks\": \"\"}, \"colorscale\": [[0.0, \"#0d0887\"], [0.1111111111111111, \"#46039f\"], [0.2222222222222222, \"#7201a8\"], [0.3333333333333333, \"#9c179e\"], [0.4444444444444444, \"#bd3786\"], [0.5555555555555556, \"#d8576b\"], [0.6666666666666666, \"#ed7953\"], [0.7777777777777778, \"#fb9f3a\"], [0.8888888888888888, \"#fdca26\"], [1.0, \"#f0f921\"]], \"type\": \"histogram2dcontour\"}], \"mesh3d\": [{\"colorbar\": {\"outlinewidth\": 0, \"ticks\": \"\"}, \"type\": \"mesh3d\"}], \"parcoords\": [{\"line\": {\"colorbar\": {\"outlinewidth\": 0, \"ticks\": \"\"}}, \"type\": \"parcoords\"}], \"pie\": [{\"automargin\": true, \"type\": \"pie\"}], \"scatter\": [{\"marker\": {\"colorbar\": {\"outlinewidth\": 0, \"ticks\": \"\"}}, \"type\": \"scatter\"}], \"scatter3d\": [{\"line\": {\"colorbar\": {\"outlinewidth\": 0, \"ticks\": \"\"}}, \"marker\": {\"colorbar\": {\"outlinewidth\": 0, \"ticks\": \"\"}}, \"type\": \"scatter3d\"}], \"scattercarpet\": [{\"marker\": {\"colorbar\": {\"outlinewidth\": 0, \"ticks\": \"\"}}, \"type\": \"scattercarpet\"}], \"scattergeo\": [{\"marker\": {\"colorbar\": {\"outlinewidth\": 0, \"ticks\": \"\"}}, \"type\": \"scattergeo\"}], \"scattergl\": [{\"marker\": {\"colorbar\": {\"outlinewidth\": 0, \"ticks\": \"\"}}, \"type\": \"scattergl\"}], \"scattermapbox\": [{\"marker\": {\"colorbar\": {\"outlinewidth\": 0, \"ticks\": \"\"}}, \"type\": \"scattermapbox\"}], \"scatterpolar\": [{\"marker\": {\"colorbar\": {\"outlinewidth\": 0, \"ticks\": \"\"}}, \"type\": \"scatterpolar\"}], \"scatterpolargl\": [{\"marker\": {\"colorbar\": {\"outlinewidth\": 0, \"ticks\": \"\"}}, \"type\": \"scatterpolargl\"}], \"scatterternary\": [{\"marker\": {\"colorbar\": {\"outlinewidth\": 0, \"ticks\": \"\"}}, \"type\": \"scatterternary\"}], \"surface\": [{\"colorbar\": {\"outlinewidth\": 0, \"ticks\": \"\"}, \"colorscale\": [[0.0, \"#0d0887\"], [0.1111111111111111, \"#46039f\"], [0.2222222222222222, \"#7201a8\"], [0.3333333333333333, \"#9c179e\"], [0.4444444444444444, \"#bd3786\"], [0.5555555555555556, \"#d8576b\"], [0.6666666666666666, \"#ed7953\"], [0.7777777777777778, \"#fb9f3a\"], [0.8888888888888888, \"#fdca26\"], [1.0, \"#f0f921\"]], \"type\": \"surface\"}], \"table\": [{\"cells\": {\"fill\": {\"color\": \"#EBF0F8\"}, \"line\": {\"color\": \"white\"}}, \"header\": {\"fill\": {\"color\": \"#C8D4E3\"}, \"line\": {\"color\": \"white\"}}, \"type\": \"table\"}]}, \"layout\": {\"annotationdefaults\": {\"arrowcolor\": \"#2a3f5f\", \"arrowhead\": 0, \"arrowwidth\": 1}, \"coloraxis\": {\"colorbar\": {\"outlinewidth\": 0, \"ticks\": \"\"}}, \"colorscale\": {\"diverging\": [[0, \"#8e0152\"], [0.1, \"#c51b7d\"], [0.2, \"#de77ae\"], [0.3, \"#f1b6da\"], [0.4, \"#fde0ef\"], [0.5, \"#f7f7f7\"], [0.6, \"#e6f5d0\"], [0.7, \"#b8e186\"], [0.8, \"#7fbc41\"], [0.9, \"#4d9221\"], [1, \"#276419\"]], \"sequential\": [[0.0, \"#0d0887\"], [0.1111111111111111, \"#46039f\"], [0.2222222222222222, \"#7201a8\"], [0.3333333333333333, \"#9c179e\"], [0.4444444444444444, \"#bd3786\"], [0.5555555555555556, \"#d8576b\"], [0.6666666666666666, \"#ed7953\"], [0.7777777777777778, \"#fb9f3a\"], [0.8888888888888888, \"#fdca26\"], [1.0, \"#f0f921\"]], \"sequentialminus\": [[0.0, \"#0d0887\"], [0.1111111111111111, \"#46039f\"], [0.2222222222222222, \"#7201a8\"], [0.3333333333333333, \"#9c179e\"], [0.4444444444444444, \"#bd3786\"], [0.5555555555555556, \"#d8576b\"], [0.6666666666666666, \"#ed7953\"], [0.7777777777777778, \"#fb9f3a\"], [0.8888888888888888, \"#fdca26\"], [1.0, \"#f0f921\"]]}, \"colorway\": [\"#636efa\", \"#EF553B\", \"#00cc96\", \"#ab63fa\", \"#FFA15A\", \"#19d3f3\", \"#FF6692\", \"#B6E880\", \"#FF97FF\", \"#FECB52\"], \"font\": {\"color\": \"#2a3f5f\"}, \"geo\": {\"bgcolor\": \"white\", \"lakecolor\": \"white\", \"landcolor\": \"#E5ECF6\", \"showlakes\": true, \"showland\": true, \"subunitcolor\": \"white\"}, \"hoverlabel\": {\"align\": \"left\"}, \"hovermode\": \"closest\", \"mapbox\": {\"style\": \"light\"}, \"paper_bgcolor\": \"white\", \"plot_bgcolor\": \"#E5ECF6\", \"polar\": {\"angularaxis\": {\"gridcolor\": \"white\", \"linecolor\": \"white\", \"ticks\": \"\"}, \"bgcolor\": \"#E5ECF6\", \"radialaxis\": {\"gridcolor\": \"white\", \"linecolor\": \"white\", \"ticks\": \"\"}}, \"scene\": {\"xaxis\": {\"backgroundcolor\": \"#E5ECF6\", \"gridcolor\": \"white\", \"gridwidth\": 2, \"linecolor\": \"white\", \"showbackground\": true, \"ticks\": \"\", \"zerolinecolor\": \"white\"}, \"yaxis\": {\"backgroundcolor\": \"#E5ECF6\", \"gridcolor\": \"white\", \"gridwidth\": 2, \"linecolor\": \"white\", \"showbackground\": true, \"ticks\": \"\", \"zerolinecolor\": \"white\"}, \"zaxis\": {\"backgroundcolor\": \"#E5ECF6\", \"gridcolor\": \"white\", \"gridwidth\": 2, \"linecolor\": \"white\", \"showbackground\": true, \"ticks\": \"\", \"zerolinecolor\": \"white\"}}, \"shapedefaults\": {\"line\": {\"color\": \"#2a3f5f\"}}, \"ternary\": {\"aaxis\": {\"gridcolor\": \"white\", \"linecolor\": \"white\", \"ticks\": \"\"}, \"baxis\": {\"gridcolor\": \"white\", \"linecolor\": \"white\", \"ticks\": \"\"}, \"bgcolor\": \"#E5ECF6\", \"caxis\": {\"gridcolor\": \"white\", \"linecolor\": \"white\", \"ticks\": \"\"}}, \"title\": {\"x\": 0.05}, \"xaxis\": {\"automargin\": true, \"gridcolor\": \"white\", \"linecolor\": \"white\", \"ticks\": \"\", \"title\": {\"standoff\": 15}, \"zerolinecolor\": \"white\", \"zerolinewidth\": 2}, \"yaxis\": {\"automargin\": true, \"gridcolor\": \"white\", \"linecolor\": \"white\", \"ticks\": \"\", \"title\": {\"standoff\": 15}, \"zerolinecolor\": \"white\", \"zerolinewidth\": 2}}}, \"title\": {\"text\": \"TXG\", \"x\": 0.5, \"xanchor\": \"center\", \"y\": 0.9, \"yanchor\": \"top\"}, \"width\": 800, \"yaxis\": {\"title\": {\"text\": \"Price\"}}},\n",
       "                        {\"responsive\": true}\n",
       "                    ).then(function(){\n",
       "                            \n",
       "var gd = document.getElementById('2f736f9c-6e07-4228-b4c9-70e90ca93a0a');\n",
       "var x = new MutationObserver(function (mutations, observer) {{\n",
       "        var display = window.getComputedStyle(gd).display;\n",
       "        if (!display || display === 'none') {{\n",
       "            console.log([gd, 'removed!']);\n",
       "            Plotly.purge(gd);\n",
       "            observer.disconnect();\n",
       "        }}\n",
       "}});\n",
       "\n",
       "// Listen for the removal of the full notebook cells\n",
       "var notebookContainer = gd.closest('#notebook-container');\n",
       "if (notebookContainer) {{\n",
       "    x.observe(notebookContainer, {childList: true});\n",
       "}}\n",
       "\n",
       "// Listen for the clearing of the current output cell\n",
       "var outputEl = gd.closest('.output');\n",
       "if (outputEl) {{\n",
       "    x.observe(outputEl, {childList: true});\n",
       "}}\n",
       "\n",
       "                        })\n",
       "                };\n",
       "                });\n",
       "            </script>\n",
       "        </div>"
      ]
     },
     "metadata": {},
     "output_type": "display_data"
    }
   ],
   "source": [
    "buyhold = pd.DataFrame({'Date':data_TXG['Date'],'TXG.Close':data_TXG['TXG.Close'],'holdingvalue':portfolio_buyhold})\n",
    "\n",
    "fig = go.Figure()\n",
    "fig.add_trace(go.Scatter(x = buyhold['Date'], y = buyhold['TXG.Close'], mode = 'lines', name = 'Close price'))\n",
    "fig.add_trace(go.Scatter(x = buyhold['Date'], y = buyhold['holdingvalue'], mode = 'lines', name = 'hold price'))\n",
    "fig.update_layout(autosize = False, width = 800, height = 500, yaxis_title = \"Price\",\n",
    "                 title={'text': \"TXG\",'y':0.9,'x':0.5,'xanchor': 'center','yanchor': 'top'})\n",
    "fig.show()"
   ]
  },
  {
   "cell_type": "markdown",
   "metadata": {},
   "source": [
    "Plot of hold value for MA5-MA10 trading strategy "
   ]
  },
  {
   "cell_type": "code",
   "execution_count": 24,
   "metadata": {},
   "outputs": [
    {
     "data": {
      "application/vnd.plotly.v1+json": {
       "config": {
        "plotlyServerURL": "https://plot.ly"
       },
       "data": [
        {
         "mode": "lines",
         "name": "MA_5",
         "type": "scatter",
         "x": [
          "1/2/2020",
          "1/3/2020",
          "1/6/2020",
          "1/7/2020",
          "1/8/2020",
          "1/9/2020",
          "1/10/2020",
          "1/13/2020",
          "1/14/2020",
          "1/15/2020",
          "1/16/2020",
          "1/17/2020",
          "1/21/2020",
          "1/22/2020",
          "1/23/2020",
          "1/24/2020",
          "1/27/2020",
          "1/28/2020",
          "1/29/2020",
          "1/30/2020",
          "1/31/2020",
          "2/3/2020",
          "2/4/2020",
          "2/5/2020",
          "2/6/2020",
          "2/7/2020",
          "2/10/2020",
          "2/11/2020",
          "2/12/2020",
          "2/13/2020",
          "2/14/2020",
          "2/18/2020",
          "2/19/2020",
          "2/20/2020",
          "2/21/2020",
          "2/24/2020",
          "2/25/2020",
          "2/26/2020",
          "2/27/2020",
          "2/28/2020",
          "3/2/2020",
          "3/3/2020",
          "3/4/2020",
          "3/5/2020",
          "3/6/2020",
          "3/9/2020",
          "3/10/2020",
          "3/11/2020",
          "3/12/2020",
          "3/13/2020",
          "3/16/2020",
          "3/17/2020",
          "3/18/2020",
          "3/19/2020",
          "3/20/2020",
          "3/23/2020",
          "3/24/2020",
          "3/25/2020",
          "3/26/2020",
          "3/27/2020",
          "3/30/2020",
          "3/31/2020",
          "4/1/2020",
          "4/2/2020",
          "4/3/2020",
          "4/6/2020",
          "4/7/2020",
          "4/8/2020",
          "4/9/2020",
          "4/13/2020",
          "4/14/2020",
          "4/15/2020",
          "4/16/2020",
          "4/17/2020",
          "4/20/2020",
          "4/21/2020",
          "4/22/2020",
          "4/23/2020",
          "4/24/2020",
          "4/27/2020",
          "4/28/2020",
          "4/29/2020",
          "4/30/2020",
          "5/1/2020",
          "5/4/2020",
          "5/5/2020",
          "5/6/2020",
          "5/7/2020",
          "5/8/2020",
          "5/11/2020",
          "5/12/2020",
          "5/13/2020",
          "5/14/2020",
          "5/15/2020",
          "5/18/2020",
          "5/19/2020",
          "5/20/2020",
          "5/21/2020",
          "5/22/2020",
          "5/26/2020",
          "5/27/2020",
          "5/28/2020",
          "5/29/2020",
          "6/1/2020",
          "6/2/2020",
          "6/3/2020",
          "6/4/2020",
          "6/5/2020"
         ],
         "y": [
          null,
          null,
          null,
          null,
          74.9520004,
          75.81999959999999,
          76.65799999999999,
          78.29199959999997,
          80.01799919999998,
          82.21000059999997,
          83.95400079999997,
          84.73000019999998,
          85.53599999999997,
          86.97599939999995,
          88.82799839999994,
          91.80799879999995,
          95.72399919999995,
          99.49799979999996,
          100.99400039999995,
          100.69200139999995,
          98.81200099999995,
          96.93400119999995,
          93.75400079999994,
          92.29800099999994,
          91.82600079999995,
          91.34400159999993,
          90.25400219999993,
          89.56000199999991,
          88.49000239999991,
          87.60600139999991,
          88.32400079999991,
          88.69400039999991,
          89.36399999999992,
          89.11999959999993,
          88.16600019999994,
          85.64199959999995,
          82.31199939999995,
          79.22799979999995,
          76.68599999999995,
          76.22599939999995,
          76.11000059999995,
          76.78599999999996,
          77.23399959999996,
          77.20599819999995,
          75.52199859999995,
          72.70599819999995,
          70.61599879999996,
          67.28399879999995,
          64.68599919999996,
          61.901999599999954,
          59.953999199999956,
          58.62999939999995,
          58.07799979999995,
          57.15800019999995,
          56.84199979999994,
          56.045999999999935,
          55.49199999999994,
          55.89000039999994,
          57.09800059999994,
          57.94000119999995,
          60.186000999999955,
          61.22800079999995,
          60.90800019999995,
          60.648000399999944,
          60.387999799999946,
          60.28199999999994,
          59.98799959999993,
          61.17399979999993,
          62.40999899999993,
          63.64999899999992,
          64.54599899999992,
          65.73599999999992,
          66.57199999999992,
          67.62000119999993,
          69.48200079999994,
          71.04800119999993,
          72.88800059999993,
          73.97600099999993,
          74.54400019999993,
          74.94200119999992,
          75.27800119999992,
          76.42800119999993,
          77.61400139999992,
          78.49600219999994,
          78.84000259999993,
          79.22200179999993,
          78.61200119999992,
          78.80000019999993,
          79.70999919999993,
          80.54799799999992,
          81.43199759999993,
          81.70799859999994,
          81.33999919999994,
          80.33799879999994,
          79.35799859999993,
          78.47999879999993,
          78.06399839999992,
          77.46999819999992,
          76.84999839999992,
          76.60999899999993,
          76.50200039999993,
          76.16000059999993,
          76.55400079999993,
          77.97400059999993,
          78.87400059999993,
          80.52400059999994,
          81.20599979999993,
          82.08799899999993
         ]
        },
        {
         "mode": "lines",
         "name": "MA_10",
         "type": "scatter",
         "x": [
          "1/2/2020",
          "1/3/2020",
          "1/6/2020",
          "1/7/2020",
          "1/8/2020",
          "1/9/2020",
          "1/10/2020",
          "1/13/2020",
          "1/14/2020",
          "1/15/2020",
          "1/16/2020",
          "1/17/2020",
          "1/21/2020",
          "1/22/2020",
          "1/23/2020",
          "1/24/2020",
          "1/27/2020",
          "1/28/2020",
          "1/29/2020",
          "1/30/2020",
          "1/31/2020",
          "2/3/2020",
          "2/4/2020",
          "2/5/2020",
          "2/6/2020",
          "2/7/2020",
          "2/10/2020",
          "2/11/2020",
          "2/12/2020",
          "2/13/2020",
          "2/14/2020",
          "2/18/2020",
          "2/19/2020",
          "2/20/2020",
          "2/21/2020",
          "2/24/2020",
          "2/25/2020",
          "2/26/2020",
          "2/27/2020",
          "2/28/2020",
          "3/2/2020",
          "3/3/2020",
          "3/4/2020",
          "3/5/2020",
          "3/6/2020",
          "3/9/2020",
          "3/10/2020",
          "3/11/2020",
          "3/12/2020",
          "3/13/2020",
          "3/16/2020",
          "3/17/2020",
          "3/18/2020",
          "3/19/2020",
          "3/20/2020",
          "3/23/2020",
          "3/24/2020",
          "3/25/2020",
          "3/26/2020",
          "3/27/2020",
          "3/30/2020",
          "3/31/2020",
          "4/1/2020",
          "4/2/2020",
          "4/3/2020",
          "4/6/2020",
          "4/7/2020",
          "4/8/2020",
          "4/9/2020",
          "4/13/2020",
          "4/14/2020",
          "4/15/2020",
          "4/16/2020",
          "4/17/2020",
          "4/20/2020",
          "4/21/2020",
          "4/22/2020",
          "4/23/2020",
          "4/24/2020",
          "4/27/2020",
          "4/28/2020",
          "4/29/2020",
          "4/30/2020",
          "5/1/2020",
          "5/4/2020",
          "5/5/2020",
          "5/6/2020",
          "5/7/2020",
          "5/8/2020",
          "5/11/2020",
          "5/12/2020",
          "5/13/2020",
          "5/14/2020",
          "5/15/2020",
          "5/18/2020",
          "5/19/2020",
          "5/20/2020",
          "5/21/2020",
          "5/22/2020",
          "5/26/2020",
          "5/27/2020",
          "5/28/2020",
          "5/29/2020",
          "6/1/2020",
          "6/2/2020",
          "6/3/2020",
          "6/4/2020",
          "6/5/2020"
         ],
         "y": [
          null,
          null,
          null,
          null,
          null,
          null,
          null,
          null,
          null,
          78.5810005,
          79.8870002,
          80.69400010000001,
          81.91399980000001,
          83.4969993,
          85.51899949999999,
          87.8809998,
          90.2269997,
          92.5169999,
          93.9849999,
          94.7599999,
          95.30999990000001,
          96.3290002,
          96.62600029999999,
          96.64600069999999,
          96.2590011,
          95.0780013,
          93.5940017,
          91.6570014,
          90.3940017,
          89.7160011,
          89.83400119999999,
          89.47400129999998,
          89.46200099999999,
          88.80500099999999,
          87.88600079999999,
          86.98300019999998,
          85.50299989999999,
          84.2959999,
          82.9029998,
          82.1959998,
          80.87600009999998,
          79.54899969999998,
          78.23099969999997,
          76.94599909999997,
          75.87399899999997,
          74.40799939999997,
          73.70099939999997,
          72.25899919999998,
          70.94599869999998,
          68.71199909999999,
          66.32999869999998,
          64.62299909999997,
          62.680999299999975,
          60.92199969999997,
          59.37199969999997,
          57.99999959999998,
          57.06099969999998,
          56.98400009999998,
          57.128000399999976,
          57.391000499999976,
          58.11600049999997,
          58.360000399999976,
          58.399000299999976,
          58.873000499999975,
          59.164000499999986,
          60.23400049999998,
          60.60800019999998,
          61.04099999999998,
          61.528999699999986,
          62.018999399999984,
          62.41399949999999,
          62.86199979999998,
          63.87299989999998,
          65.01500009999998,
          66.56599989999998,
          67.79700009999998,
          69.31200029999998,
          70.27400049999999,
          71.0820007,
          72.212001,
          73.1630012,
          74.6580009,
          75.7950012,
          76.5200012,
          76.89100189999999,
          77.25000149999998,
          77.52000119999998,
          78.20700079999997,
          79.10300069999997,
          79.69400029999997,
          80.32699969999997,
          80.15999989999997,
          80.06999969999998,
          80.02399899999999,
          79.9529983,
          79.95599820000001,
          79.8859985,
          79.40499870000001,
          78.5939986,
          77.98399880000001,
          77.4909996,
          77.1119995,
          77.01199949999999,
          77.41199950000001,
          77.7419998,
          78.5130005,
          78.6830002,
          79.32099989999999
         ]
        },
        {
         "mode": "lines",
         "name": "holdvalue",
         "type": "scatter",
         "x": [
          "1/2/2020",
          "1/3/2020",
          "1/6/2020",
          "1/7/2020",
          "1/8/2020",
          "1/9/2020",
          "1/10/2020",
          "1/13/2020",
          "1/14/2020",
          "1/15/2020",
          "1/16/2020",
          "1/17/2020",
          "1/21/2020",
          "1/22/2020",
          "1/23/2020",
          "1/24/2020",
          "1/27/2020",
          "1/28/2020",
          "1/29/2020",
          "1/30/2020",
          "1/31/2020",
          "2/3/2020",
          "2/4/2020",
          "2/5/2020",
          "2/6/2020",
          "2/7/2020",
          "2/10/2020",
          "2/11/2020",
          "2/12/2020",
          "2/13/2020",
          "2/14/2020",
          "2/18/2020",
          "2/19/2020",
          "2/20/2020",
          "2/21/2020",
          "2/24/2020",
          "2/25/2020",
          "2/26/2020",
          "2/27/2020",
          "2/28/2020",
          "3/2/2020",
          "3/3/2020",
          "3/4/2020",
          "3/5/2020",
          "3/6/2020",
          "3/9/2020",
          "3/10/2020",
          "3/11/2020",
          "3/12/2020",
          "3/13/2020",
          "3/16/2020",
          "3/17/2020",
          "3/18/2020",
          "3/19/2020",
          "3/20/2020",
          "3/23/2020",
          "3/24/2020",
          "3/25/2020",
          "3/26/2020",
          "3/27/2020",
          "3/30/2020",
          "3/31/2020",
          "4/1/2020",
          "4/2/2020",
          "4/3/2020",
          "4/6/2020",
          "4/7/2020",
          "4/8/2020",
          "4/9/2020",
          "4/13/2020",
          "4/14/2020",
          "4/15/2020",
          "4/16/2020",
          "4/17/2020",
          "4/20/2020",
          "4/21/2020",
          "4/22/2020",
          "4/23/2020",
          "4/24/2020",
          "4/27/2020",
          "4/28/2020",
          "4/29/2020",
          "4/30/2020",
          "5/1/2020",
          "5/4/2020",
          "5/5/2020",
          "5/6/2020",
          "5/7/2020",
          "5/8/2020",
          "5/11/2020",
          "5/12/2020",
          "5/13/2020",
          "5/14/2020",
          "5/15/2020",
          "5/18/2020",
          "5/19/2020",
          "5/20/2020",
          "5/21/2020",
          "5/22/2020",
          "5/26/2020",
          "5/27/2020",
          "5/28/2020",
          "5/29/2020",
          "6/1/2020",
          "6/2/2020",
          "6/3/2020",
          "6/4/2020",
          "6/5/2020"
         ],
         "y": [
          72.83000200000001,
          72.83000200000001,
          72.83000200000001,
          72.83000200000001,
          72.83000200000001,
          72.83000200000001,
          72.83000200000001,
          72.83000200000001,
          72.83000200000001,
          72.83000200000001,
          72.83000200000001,
          72.83000200000001,
          76.41794696584768,
          79.95363598972742,
          82.78393032179585,
          87.77395955676052,
          89.88143851768879,
          92.85107390031362,
          86.46766986503663,
          81.46893638642612,
          79.58787574690453,
          81.70406591835703,
          79.00440142632078,
          80.12781143206313,
          80.12781143206313,
          80.12781143206313,
          80.12781143206313,
          80.12781143206313,
          80.12781143206313,
          80.12781143206313,
          80.12781143206313,
          80.12781143206313,
          80.12781143206313,
          80.12781143206313,
          80.12781143206313,
          80.12781143206313,
          80.12781143206313,
          80.12781143206313,
          80.12781143206313,
          80.12781143206313,
          80.12781143206313,
          80.12781143206313,
          80.12781143206313,
          80.12781143206313,
          80.12781143206313,
          80.12781143206313,
          80.12781143206313,
          80.12781143206313,
          80.12781143206313,
          80.12781143206313,
          80.12781143206313,
          80.12781143206313,
          80.12781143206313,
          80.12781143206313,
          80.12781143206313,
          80.12781143206313,
          80.12781143206313,
          80.12781143206313,
          80.12781143206313,
          80.12781143206313,
          80.12781143206313,
          79.51537082741314,
          74.50100165432096,
          76.22349827118747,
          74.88377782967757,
          79.45157479818704,
          77.63976501632457,
          82.06721199645719,
          84.10868237985127,
          82.79448545371417,
          85.16769901684575,
          85.2314988738336,
          87.4005600397593,
          90.79451389827025,
          94.67330354377313,
          95.15815974549444,
          96.96996442367455,
          94.34157057140034,
          94.41812325463049,
          97.21239188657492,
          97.30170632749146,
          104.30650778467624,
          101.90778091353657,
          100.044938136055,
          99.40697784379398,
          99.73870954024619,
          100.41494617412229,
          103.10713988338436,
          105.85037041602732,
          104.75307743741779,
          105.37827597199242,
          102.17572296036563,
          100.75944983562557,
          99.45800573573077,
          98.50106529733924,
          99.77698588186126,
          99.77698588186126,
          99.77698588186126,
          99.77698588186126,
          99.77698588186126,
          99.77698588186126,
          99.77698588186126,
          99.77698588186126,
          99.77698588186126,
          99.77698588186126,
          106.48250007725024,
          98.7854096329613,
          102.10717761014625
         ]
        },
        {
         "line": {
          "color": "orange"
         },
         "mode": "lines",
         "name": "closingprice",
         "type": "scatter",
         "x": [
          "1/2/2020",
          "1/3/2020",
          "1/6/2020",
          "1/7/2020",
          "1/8/2020",
          "1/9/2020",
          "1/10/2020",
          "1/13/2020",
          "1/14/2020",
          "1/15/2020",
          "1/16/2020",
          "1/17/2020",
          "1/21/2020",
          "1/22/2020",
          "1/23/2020",
          "1/24/2020",
          "1/27/2020",
          "1/28/2020",
          "1/29/2020",
          "1/30/2020",
          "1/31/2020",
          "2/3/2020",
          "2/4/2020",
          "2/5/2020",
          "2/6/2020",
          "2/7/2020",
          "2/10/2020",
          "2/11/2020",
          "2/12/2020",
          "2/13/2020",
          "2/14/2020",
          "2/18/2020",
          "2/19/2020",
          "2/20/2020",
          "2/21/2020",
          "2/24/2020",
          "2/25/2020",
          "2/26/2020",
          "2/27/2020",
          "2/28/2020",
          "3/2/2020",
          "3/3/2020",
          "3/4/2020",
          "3/5/2020",
          "3/6/2020",
          "3/9/2020",
          "3/10/2020",
          "3/11/2020",
          "3/12/2020",
          "3/13/2020",
          "3/16/2020",
          "3/17/2020",
          "3/18/2020",
          "3/19/2020",
          "3/20/2020",
          "3/23/2020",
          "3/24/2020",
          "3/25/2020",
          "3/26/2020",
          "3/27/2020",
          "3/30/2020",
          "3/31/2020",
          "4/1/2020",
          "4/2/2020",
          "4/3/2020",
          "4/6/2020",
          "4/7/2020",
          "4/8/2020",
          "4/9/2020",
          "4/13/2020",
          "4/14/2020",
          "4/15/2020",
          "4/16/2020",
          "4/17/2020",
          "4/20/2020",
          "4/21/2020",
          "4/22/2020",
          "4/23/2020",
          "4/24/2020",
          "4/27/2020",
          "4/28/2020",
          "4/29/2020",
          "4/30/2020",
          "5/1/2020",
          "5/4/2020",
          "5/5/2020",
          "5/6/2020",
          "5/7/2020",
          "5/8/2020",
          "5/11/2020",
          "5/12/2020",
          "5/13/2020",
          "5/14/2020",
          "5/15/2020",
          "5/18/2020",
          "5/19/2020",
          "5/20/2020",
          "5/21/2020",
          "5/22/2020",
          "5/26/2020",
          "5/27/2020",
          "5/28/2020",
          "5/29/2020",
          "6/1/2020",
          "6/2/2020",
          "6/3/2020",
          "6/4/2020",
          "6/5/2020"
         ],
         "y": [
          72.83000200000001,
          75.559998,
          75.550003,
          75.980003,
          74.839996,
          77.16999799999999,
          79.75,
          83.720001,
          84.610001,
          85.800003,
          85.889999,
          83.629997,
          87.75,
          91.809998,
          95.059998,
          100.790001,
          103.209999,
          106.620003,
          99.290001,
          93.550003,
          91.389999,
          93.82,
          90.720001,
          92.010002,
          91.190002,
          88.980003,
          88.370003,
          87.25,
          86.660004,
          86.769997,
          92.57,
          90.220001,
          90.599998,
          85.440002,
          82,
          79.949997,
          73.57,
          75.18,
          72.730003,
          79.699997,
          79.370003,
          76.949997,
          77.41999799999999,
          72.589996,
          71.279999,
          65.290001,
          66.5,
          60.759997999999996,
          59.599998,
          57.360001000000004,
          55.549999,
          59.880001,
          58,
          55,
          55.779999,
          51.57,
          57.110001000000004,
          59.990002000000004,
          61.040001000000004,
          59.990002000000004,
          62.799999,
          62.32,
          58.389998999999996,
          59.740002000000004,
          58.689999,
          62.27,
          60.849998,
          64.32,
          65.91999799999999,
          64.889999,
          66.75,
          66.800003,
          68.5,
          71.160004,
          74.199997,
          74.58000200000001,
          76,
          73.940002,
          74,
          76.190002,
          76.260002,
          81.75,
          79.870003,
          78.410004,
          77.910004,
          78.16999799999999,
          78.699997,
          80.809998,
          82.959999,
          82.099998,
          82.589996,
          80.08000200000001,
          78.970001,
          77.949997,
          77.199997,
          78.199997,
          78,
          76,
          74.849998,
          76,
          77.660004,
          76.290001,
          77.970001,
          81.949997,
          80.5,
          85.910004,
          79.699997,
          82.379997
         ]
        }
       ],
       "layout": {
        "autosize": false,
        "height": 500,
        "template": {
         "data": {
          "bar": [
           {
            "error_x": {
             "color": "#2a3f5f"
            },
            "error_y": {
             "color": "#2a3f5f"
            },
            "marker": {
             "line": {
              "color": "#E5ECF6",
              "width": 0.5
             }
            },
            "type": "bar"
           }
          ],
          "barpolar": [
           {
            "marker": {
             "line": {
              "color": "#E5ECF6",
              "width": 0.5
             }
            },
            "type": "barpolar"
           }
          ],
          "carpet": [
           {
            "aaxis": {
             "endlinecolor": "#2a3f5f",
             "gridcolor": "white",
             "linecolor": "white",
             "minorgridcolor": "white",
             "startlinecolor": "#2a3f5f"
            },
            "baxis": {
             "endlinecolor": "#2a3f5f",
             "gridcolor": "white",
             "linecolor": "white",
             "minorgridcolor": "white",
             "startlinecolor": "#2a3f5f"
            },
            "type": "carpet"
           }
          ],
          "choropleth": [
           {
            "colorbar": {
             "outlinewidth": 0,
             "ticks": ""
            },
            "type": "choropleth"
           }
          ],
          "contour": [
           {
            "colorbar": {
             "outlinewidth": 0,
             "ticks": ""
            },
            "colorscale": [
             [
              0,
              "#0d0887"
             ],
             [
              0.1111111111111111,
              "#46039f"
             ],
             [
              0.2222222222222222,
              "#7201a8"
             ],
             [
              0.3333333333333333,
              "#9c179e"
             ],
             [
              0.4444444444444444,
              "#bd3786"
             ],
             [
              0.5555555555555556,
              "#d8576b"
             ],
             [
              0.6666666666666666,
              "#ed7953"
             ],
             [
              0.7777777777777778,
              "#fb9f3a"
             ],
             [
              0.8888888888888888,
              "#fdca26"
             ],
             [
              1,
              "#f0f921"
             ]
            ],
            "type": "contour"
           }
          ],
          "contourcarpet": [
           {
            "colorbar": {
             "outlinewidth": 0,
             "ticks": ""
            },
            "type": "contourcarpet"
           }
          ],
          "heatmap": [
           {
            "colorbar": {
             "outlinewidth": 0,
             "ticks": ""
            },
            "colorscale": [
             [
              0,
              "#0d0887"
             ],
             [
              0.1111111111111111,
              "#46039f"
             ],
             [
              0.2222222222222222,
              "#7201a8"
             ],
             [
              0.3333333333333333,
              "#9c179e"
             ],
             [
              0.4444444444444444,
              "#bd3786"
             ],
             [
              0.5555555555555556,
              "#d8576b"
             ],
             [
              0.6666666666666666,
              "#ed7953"
             ],
             [
              0.7777777777777778,
              "#fb9f3a"
             ],
             [
              0.8888888888888888,
              "#fdca26"
             ],
             [
              1,
              "#f0f921"
             ]
            ],
            "type": "heatmap"
           }
          ],
          "heatmapgl": [
           {
            "colorbar": {
             "outlinewidth": 0,
             "ticks": ""
            },
            "colorscale": [
             [
              0,
              "#0d0887"
             ],
             [
              0.1111111111111111,
              "#46039f"
             ],
             [
              0.2222222222222222,
              "#7201a8"
             ],
             [
              0.3333333333333333,
              "#9c179e"
             ],
             [
              0.4444444444444444,
              "#bd3786"
             ],
             [
              0.5555555555555556,
              "#d8576b"
             ],
             [
              0.6666666666666666,
              "#ed7953"
             ],
             [
              0.7777777777777778,
              "#fb9f3a"
             ],
             [
              0.8888888888888888,
              "#fdca26"
             ],
             [
              1,
              "#f0f921"
             ]
            ],
            "type": "heatmapgl"
           }
          ],
          "histogram": [
           {
            "marker": {
             "colorbar": {
              "outlinewidth": 0,
              "ticks": ""
             }
            },
            "type": "histogram"
           }
          ],
          "histogram2d": [
           {
            "colorbar": {
             "outlinewidth": 0,
             "ticks": ""
            },
            "colorscale": [
             [
              0,
              "#0d0887"
             ],
             [
              0.1111111111111111,
              "#46039f"
             ],
             [
              0.2222222222222222,
              "#7201a8"
             ],
             [
              0.3333333333333333,
              "#9c179e"
             ],
             [
              0.4444444444444444,
              "#bd3786"
             ],
             [
              0.5555555555555556,
              "#d8576b"
             ],
             [
              0.6666666666666666,
              "#ed7953"
             ],
             [
              0.7777777777777778,
              "#fb9f3a"
             ],
             [
              0.8888888888888888,
              "#fdca26"
             ],
             [
              1,
              "#f0f921"
             ]
            ],
            "type": "histogram2d"
           }
          ],
          "histogram2dcontour": [
           {
            "colorbar": {
             "outlinewidth": 0,
             "ticks": ""
            },
            "colorscale": [
             [
              0,
              "#0d0887"
             ],
             [
              0.1111111111111111,
              "#46039f"
             ],
             [
              0.2222222222222222,
              "#7201a8"
             ],
             [
              0.3333333333333333,
              "#9c179e"
             ],
             [
              0.4444444444444444,
              "#bd3786"
             ],
             [
              0.5555555555555556,
              "#d8576b"
             ],
             [
              0.6666666666666666,
              "#ed7953"
             ],
             [
              0.7777777777777778,
              "#fb9f3a"
             ],
             [
              0.8888888888888888,
              "#fdca26"
             ],
             [
              1,
              "#f0f921"
             ]
            ],
            "type": "histogram2dcontour"
           }
          ],
          "mesh3d": [
           {
            "colorbar": {
             "outlinewidth": 0,
             "ticks": ""
            },
            "type": "mesh3d"
           }
          ],
          "parcoords": [
           {
            "line": {
             "colorbar": {
              "outlinewidth": 0,
              "ticks": ""
             }
            },
            "type": "parcoords"
           }
          ],
          "pie": [
           {
            "automargin": true,
            "type": "pie"
           }
          ],
          "scatter": [
           {
            "marker": {
             "colorbar": {
              "outlinewidth": 0,
              "ticks": ""
             }
            },
            "type": "scatter"
           }
          ],
          "scatter3d": [
           {
            "line": {
             "colorbar": {
              "outlinewidth": 0,
              "ticks": ""
             }
            },
            "marker": {
             "colorbar": {
              "outlinewidth": 0,
              "ticks": ""
             }
            },
            "type": "scatter3d"
           }
          ],
          "scattercarpet": [
           {
            "marker": {
             "colorbar": {
              "outlinewidth": 0,
              "ticks": ""
             }
            },
            "type": "scattercarpet"
           }
          ],
          "scattergeo": [
           {
            "marker": {
             "colorbar": {
              "outlinewidth": 0,
              "ticks": ""
             }
            },
            "type": "scattergeo"
           }
          ],
          "scattergl": [
           {
            "marker": {
             "colorbar": {
              "outlinewidth": 0,
              "ticks": ""
             }
            },
            "type": "scattergl"
           }
          ],
          "scattermapbox": [
           {
            "marker": {
             "colorbar": {
              "outlinewidth": 0,
              "ticks": ""
             }
            },
            "type": "scattermapbox"
           }
          ],
          "scatterpolar": [
           {
            "marker": {
             "colorbar": {
              "outlinewidth": 0,
              "ticks": ""
             }
            },
            "type": "scatterpolar"
           }
          ],
          "scatterpolargl": [
           {
            "marker": {
             "colorbar": {
              "outlinewidth": 0,
              "ticks": ""
             }
            },
            "type": "scatterpolargl"
           }
          ],
          "scatterternary": [
           {
            "marker": {
             "colorbar": {
              "outlinewidth": 0,
              "ticks": ""
             }
            },
            "type": "scatterternary"
           }
          ],
          "surface": [
           {
            "colorbar": {
             "outlinewidth": 0,
             "ticks": ""
            },
            "colorscale": [
             [
              0,
              "#0d0887"
             ],
             [
              0.1111111111111111,
              "#46039f"
             ],
             [
              0.2222222222222222,
              "#7201a8"
             ],
             [
              0.3333333333333333,
              "#9c179e"
             ],
             [
              0.4444444444444444,
              "#bd3786"
             ],
             [
              0.5555555555555556,
              "#d8576b"
             ],
             [
              0.6666666666666666,
              "#ed7953"
             ],
             [
              0.7777777777777778,
              "#fb9f3a"
             ],
             [
              0.8888888888888888,
              "#fdca26"
             ],
             [
              1,
              "#f0f921"
             ]
            ],
            "type": "surface"
           }
          ],
          "table": [
           {
            "cells": {
             "fill": {
              "color": "#EBF0F8"
             },
             "line": {
              "color": "white"
             }
            },
            "header": {
             "fill": {
              "color": "#C8D4E3"
             },
             "line": {
              "color": "white"
             }
            },
            "type": "table"
           }
          ]
         },
         "layout": {
          "annotationdefaults": {
           "arrowcolor": "#2a3f5f",
           "arrowhead": 0,
           "arrowwidth": 1
          },
          "coloraxis": {
           "colorbar": {
            "outlinewidth": 0,
            "ticks": ""
           }
          },
          "colorscale": {
           "diverging": [
            [
             0,
             "#8e0152"
            ],
            [
             0.1,
             "#c51b7d"
            ],
            [
             0.2,
             "#de77ae"
            ],
            [
             0.3,
             "#f1b6da"
            ],
            [
             0.4,
             "#fde0ef"
            ],
            [
             0.5,
             "#f7f7f7"
            ],
            [
             0.6,
             "#e6f5d0"
            ],
            [
             0.7,
             "#b8e186"
            ],
            [
             0.8,
             "#7fbc41"
            ],
            [
             0.9,
             "#4d9221"
            ],
            [
             1,
             "#276419"
            ]
           ],
           "sequential": [
            [
             0,
             "#0d0887"
            ],
            [
             0.1111111111111111,
             "#46039f"
            ],
            [
             0.2222222222222222,
             "#7201a8"
            ],
            [
             0.3333333333333333,
             "#9c179e"
            ],
            [
             0.4444444444444444,
             "#bd3786"
            ],
            [
             0.5555555555555556,
             "#d8576b"
            ],
            [
             0.6666666666666666,
             "#ed7953"
            ],
            [
             0.7777777777777778,
             "#fb9f3a"
            ],
            [
             0.8888888888888888,
             "#fdca26"
            ],
            [
             1,
             "#f0f921"
            ]
           ],
           "sequentialminus": [
            [
             0,
             "#0d0887"
            ],
            [
             0.1111111111111111,
             "#46039f"
            ],
            [
             0.2222222222222222,
             "#7201a8"
            ],
            [
             0.3333333333333333,
             "#9c179e"
            ],
            [
             0.4444444444444444,
             "#bd3786"
            ],
            [
             0.5555555555555556,
             "#d8576b"
            ],
            [
             0.6666666666666666,
             "#ed7953"
            ],
            [
             0.7777777777777778,
             "#fb9f3a"
            ],
            [
             0.8888888888888888,
             "#fdca26"
            ],
            [
             1,
             "#f0f921"
            ]
           ]
          },
          "colorway": [
           "#636efa",
           "#EF553B",
           "#00cc96",
           "#ab63fa",
           "#FFA15A",
           "#19d3f3",
           "#FF6692",
           "#B6E880",
           "#FF97FF",
           "#FECB52"
          ],
          "font": {
           "color": "#2a3f5f"
          },
          "geo": {
           "bgcolor": "white",
           "lakecolor": "white",
           "landcolor": "#E5ECF6",
           "showlakes": true,
           "showland": true,
           "subunitcolor": "white"
          },
          "hoverlabel": {
           "align": "left"
          },
          "hovermode": "closest",
          "mapbox": {
           "style": "light"
          },
          "paper_bgcolor": "white",
          "plot_bgcolor": "#E5ECF6",
          "polar": {
           "angularaxis": {
            "gridcolor": "white",
            "linecolor": "white",
            "ticks": ""
           },
           "bgcolor": "#E5ECF6",
           "radialaxis": {
            "gridcolor": "white",
            "linecolor": "white",
            "ticks": ""
           }
          },
          "scene": {
           "xaxis": {
            "backgroundcolor": "#E5ECF6",
            "gridcolor": "white",
            "gridwidth": 2,
            "linecolor": "white",
            "showbackground": true,
            "ticks": "",
            "zerolinecolor": "white"
           },
           "yaxis": {
            "backgroundcolor": "#E5ECF6",
            "gridcolor": "white",
            "gridwidth": 2,
            "linecolor": "white",
            "showbackground": true,
            "ticks": "",
            "zerolinecolor": "white"
           },
           "zaxis": {
            "backgroundcolor": "#E5ECF6",
            "gridcolor": "white",
            "gridwidth": 2,
            "linecolor": "white",
            "showbackground": true,
            "ticks": "",
            "zerolinecolor": "white"
           }
          },
          "shapedefaults": {
           "line": {
            "color": "#2a3f5f"
           }
          },
          "ternary": {
           "aaxis": {
            "gridcolor": "white",
            "linecolor": "white",
            "ticks": ""
           },
           "baxis": {
            "gridcolor": "white",
            "linecolor": "white",
            "ticks": ""
           },
           "bgcolor": "#E5ECF6",
           "caxis": {
            "gridcolor": "white",
            "linecolor": "white",
            "ticks": ""
           }
          },
          "title": {
           "x": 0.05
          },
          "xaxis": {
           "automargin": true,
           "gridcolor": "white",
           "linecolor": "white",
           "ticks": "",
           "title": {
            "standoff": 15
           },
           "zerolinecolor": "white",
           "zerolinewidth": 2
          },
          "yaxis": {
           "automargin": true,
           "gridcolor": "white",
           "linecolor": "white",
           "ticks": "",
           "title": {
            "standoff": 15
           },
           "zerolinecolor": "white",
           "zerolinewidth": 2
          }
         }
        },
        "title": {
         "text": "TXG",
         "x": 0.5,
         "xanchor": "center",
         "y": 0.9,
         "yanchor": "top"
        },
        "width": 800,
        "yaxis": {
         "title": {
          "text": "Price"
         }
        }
       }
      },
      "text/html": [
       "<div>\n",
       "        \n",
       "        \n",
       "            <div id=\"6e29518f-ec1c-4c53-8a49-3219ee0b207f\" class=\"plotly-graph-div\" style=\"height:500px; width:800px;\"></div>\n",
       "            <script type=\"text/javascript\">\n",
       "                require([\"plotly\"], function(Plotly) {\n",
       "                    window.PLOTLYENV=window.PLOTLYENV || {};\n",
       "                    \n",
       "                if (document.getElementById(\"6e29518f-ec1c-4c53-8a49-3219ee0b207f\")) {\n",
       "                    Plotly.newPlot(\n",
       "                        '6e29518f-ec1c-4c53-8a49-3219ee0b207f',\n",
       "                        [{\"mode\": \"lines\", \"name\": \"MA_5\", \"type\": \"scatter\", \"x\": [\"1/2/2020\", \"1/3/2020\", \"1/6/2020\", \"1/7/2020\", \"1/8/2020\", \"1/9/2020\", \"1/10/2020\", \"1/13/2020\", \"1/14/2020\", \"1/15/2020\", \"1/16/2020\", \"1/17/2020\", \"1/21/2020\", \"1/22/2020\", \"1/23/2020\", \"1/24/2020\", \"1/27/2020\", \"1/28/2020\", \"1/29/2020\", \"1/30/2020\", \"1/31/2020\", \"2/3/2020\", \"2/4/2020\", \"2/5/2020\", \"2/6/2020\", \"2/7/2020\", \"2/10/2020\", \"2/11/2020\", \"2/12/2020\", \"2/13/2020\", \"2/14/2020\", \"2/18/2020\", \"2/19/2020\", \"2/20/2020\", \"2/21/2020\", \"2/24/2020\", \"2/25/2020\", \"2/26/2020\", \"2/27/2020\", \"2/28/2020\", \"3/2/2020\", \"3/3/2020\", \"3/4/2020\", \"3/5/2020\", \"3/6/2020\", \"3/9/2020\", \"3/10/2020\", \"3/11/2020\", \"3/12/2020\", \"3/13/2020\", \"3/16/2020\", \"3/17/2020\", \"3/18/2020\", \"3/19/2020\", \"3/20/2020\", \"3/23/2020\", \"3/24/2020\", \"3/25/2020\", \"3/26/2020\", \"3/27/2020\", \"3/30/2020\", \"3/31/2020\", \"4/1/2020\", \"4/2/2020\", \"4/3/2020\", \"4/6/2020\", \"4/7/2020\", \"4/8/2020\", \"4/9/2020\", \"4/13/2020\", \"4/14/2020\", \"4/15/2020\", \"4/16/2020\", \"4/17/2020\", \"4/20/2020\", \"4/21/2020\", \"4/22/2020\", \"4/23/2020\", \"4/24/2020\", \"4/27/2020\", \"4/28/2020\", \"4/29/2020\", \"4/30/2020\", \"5/1/2020\", \"5/4/2020\", \"5/5/2020\", \"5/6/2020\", \"5/7/2020\", \"5/8/2020\", \"5/11/2020\", \"5/12/2020\", \"5/13/2020\", \"5/14/2020\", \"5/15/2020\", \"5/18/2020\", \"5/19/2020\", \"5/20/2020\", \"5/21/2020\", \"5/22/2020\", \"5/26/2020\", \"5/27/2020\", \"5/28/2020\", \"5/29/2020\", \"6/1/2020\", \"6/2/2020\", \"6/3/2020\", \"6/4/2020\", \"6/5/2020\"], \"y\": [null, null, null, null, 74.9520004, 75.81999959999999, 76.65799999999999, 78.29199959999997, 80.01799919999998, 82.21000059999997, 83.95400079999997, 84.73000019999998, 85.53599999999997, 86.97599939999995, 88.82799839999994, 91.80799879999995, 95.72399919999995, 99.49799979999996, 100.99400039999995, 100.69200139999995, 98.81200099999995, 96.93400119999995, 93.75400079999994, 92.29800099999994, 91.82600079999995, 91.34400159999993, 90.25400219999993, 89.56000199999991, 88.49000239999991, 87.60600139999991, 88.32400079999991, 88.69400039999991, 89.36399999999992, 89.11999959999993, 88.16600019999994, 85.64199959999995, 82.31199939999995, 79.22799979999995, 76.68599999999995, 76.22599939999995, 76.11000059999995, 76.78599999999996, 77.23399959999996, 77.20599819999995, 75.52199859999995, 72.70599819999995, 70.61599879999996, 67.28399879999995, 64.68599919999996, 61.901999599999954, 59.953999199999956, 58.62999939999995, 58.07799979999995, 57.15800019999995, 56.84199979999994, 56.045999999999935, 55.49199999999994, 55.89000039999994, 57.09800059999994, 57.94000119999995, 60.186000999999955, 61.22800079999995, 60.90800019999995, 60.648000399999944, 60.387999799999946, 60.28199999999994, 59.98799959999993, 61.17399979999993, 62.40999899999993, 63.64999899999992, 64.54599899999992, 65.73599999999992, 66.57199999999992, 67.62000119999993, 69.48200079999994, 71.04800119999993, 72.88800059999993, 73.97600099999993, 74.54400019999993, 74.94200119999992, 75.27800119999992, 76.42800119999993, 77.61400139999992, 78.49600219999994, 78.84000259999993, 79.22200179999993, 78.61200119999992, 78.80000019999993, 79.70999919999993, 80.54799799999992, 81.43199759999993, 81.70799859999994, 81.33999919999994, 80.33799879999994, 79.35799859999993, 78.47999879999993, 78.06399839999992, 77.46999819999992, 76.84999839999992, 76.60999899999993, 76.50200039999993, 76.16000059999993, 76.55400079999993, 77.97400059999993, 78.87400059999993, 80.52400059999994, 81.20599979999993, 82.08799899999993]}, {\"mode\": \"lines\", \"name\": \"MA_10\", \"type\": \"scatter\", \"x\": [\"1/2/2020\", \"1/3/2020\", \"1/6/2020\", \"1/7/2020\", \"1/8/2020\", \"1/9/2020\", \"1/10/2020\", \"1/13/2020\", \"1/14/2020\", \"1/15/2020\", \"1/16/2020\", \"1/17/2020\", \"1/21/2020\", \"1/22/2020\", \"1/23/2020\", \"1/24/2020\", \"1/27/2020\", \"1/28/2020\", \"1/29/2020\", \"1/30/2020\", \"1/31/2020\", \"2/3/2020\", \"2/4/2020\", \"2/5/2020\", \"2/6/2020\", \"2/7/2020\", \"2/10/2020\", \"2/11/2020\", \"2/12/2020\", \"2/13/2020\", \"2/14/2020\", \"2/18/2020\", \"2/19/2020\", \"2/20/2020\", \"2/21/2020\", \"2/24/2020\", \"2/25/2020\", \"2/26/2020\", \"2/27/2020\", \"2/28/2020\", \"3/2/2020\", \"3/3/2020\", \"3/4/2020\", \"3/5/2020\", \"3/6/2020\", \"3/9/2020\", \"3/10/2020\", \"3/11/2020\", \"3/12/2020\", \"3/13/2020\", \"3/16/2020\", \"3/17/2020\", \"3/18/2020\", \"3/19/2020\", \"3/20/2020\", \"3/23/2020\", \"3/24/2020\", \"3/25/2020\", \"3/26/2020\", \"3/27/2020\", \"3/30/2020\", \"3/31/2020\", \"4/1/2020\", \"4/2/2020\", \"4/3/2020\", \"4/6/2020\", \"4/7/2020\", \"4/8/2020\", \"4/9/2020\", \"4/13/2020\", \"4/14/2020\", \"4/15/2020\", \"4/16/2020\", \"4/17/2020\", \"4/20/2020\", \"4/21/2020\", \"4/22/2020\", \"4/23/2020\", \"4/24/2020\", \"4/27/2020\", \"4/28/2020\", \"4/29/2020\", \"4/30/2020\", \"5/1/2020\", \"5/4/2020\", \"5/5/2020\", \"5/6/2020\", \"5/7/2020\", \"5/8/2020\", \"5/11/2020\", \"5/12/2020\", \"5/13/2020\", \"5/14/2020\", \"5/15/2020\", \"5/18/2020\", \"5/19/2020\", \"5/20/2020\", \"5/21/2020\", \"5/22/2020\", \"5/26/2020\", \"5/27/2020\", \"5/28/2020\", \"5/29/2020\", \"6/1/2020\", \"6/2/2020\", \"6/3/2020\", \"6/4/2020\", \"6/5/2020\"], \"y\": [null, null, null, null, null, null, null, null, null, 78.5810005, 79.8870002, 80.69400010000001, 81.91399980000001, 83.4969993, 85.51899949999999, 87.8809998, 90.2269997, 92.5169999, 93.9849999, 94.7599999, 95.30999990000001, 96.3290002, 96.62600029999999, 96.64600069999999, 96.2590011, 95.0780013, 93.5940017, 91.6570014, 90.3940017, 89.7160011, 89.83400119999999, 89.47400129999998, 89.46200099999999, 88.80500099999999, 87.88600079999999, 86.98300019999998, 85.50299989999999, 84.2959999, 82.9029998, 82.1959998, 80.87600009999998, 79.54899969999998, 78.23099969999997, 76.94599909999997, 75.87399899999997, 74.40799939999997, 73.70099939999997, 72.25899919999998, 70.94599869999998, 68.71199909999999, 66.32999869999998, 64.62299909999997, 62.680999299999975, 60.92199969999997, 59.37199969999997, 57.99999959999998, 57.06099969999998, 56.98400009999998, 57.128000399999976, 57.391000499999976, 58.11600049999997, 58.360000399999976, 58.399000299999976, 58.873000499999975, 59.164000499999986, 60.23400049999998, 60.60800019999998, 61.04099999999998, 61.528999699999986, 62.018999399999984, 62.41399949999999, 62.86199979999998, 63.87299989999998, 65.01500009999998, 66.56599989999998, 67.79700009999998, 69.31200029999998, 70.27400049999999, 71.0820007, 72.212001, 73.1630012, 74.6580009, 75.7950012, 76.5200012, 76.89100189999999, 77.25000149999998, 77.52000119999998, 78.20700079999997, 79.10300069999997, 79.69400029999997, 80.32699969999997, 80.15999989999997, 80.06999969999998, 80.02399899999999, 79.9529983, 79.95599820000001, 79.8859985, 79.40499870000001, 78.5939986, 77.98399880000001, 77.4909996, 77.1119995, 77.01199949999999, 77.41199950000001, 77.7419998, 78.5130005, 78.6830002, 79.32099989999999]}, {\"mode\": \"lines\", \"name\": \"holdvalue\", \"type\": \"scatter\", \"x\": [\"1/2/2020\", \"1/3/2020\", \"1/6/2020\", \"1/7/2020\", \"1/8/2020\", \"1/9/2020\", \"1/10/2020\", \"1/13/2020\", \"1/14/2020\", \"1/15/2020\", \"1/16/2020\", \"1/17/2020\", \"1/21/2020\", \"1/22/2020\", \"1/23/2020\", \"1/24/2020\", \"1/27/2020\", \"1/28/2020\", \"1/29/2020\", \"1/30/2020\", \"1/31/2020\", \"2/3/2020\", \"2/4/2020\", \"2/5/2020\", \"2/6/2020\", \"2/7/2020\", \"2/10/2020\", \"2/11/2020\", \"2/12/2020\", \"2/13/2020\", \"2/14/2020\", \"2/18/2020\", \"2/19/2020\", \"2/20/2020\", \"2/21/2020\", \"2/24/2020\", \"2/25/2020\", \"2/26/2020\", \"2/27/2020\", \"2/28/2020\", \"3/2/2020\", \"3/3/2020\", \"3/4/2020\", \"3/5/2020\", \"3/6/2020\", \"3/9/2020\", \"3/10/2020\", \"3/11/2020\", \"3/12/2020\", \"3/13/2020\", \"3/16/2020\", \"3/17/2020\", \"3/18/2020\", \"3/19/2020\", \"3/20/2020\", \"3/23/2020\", \"3/24/2020\", \"3/25/2020\", \"3/26/2020\", \"3/27/2020\", \"3/30/2020\", \"3/31/2020\", \"4/1/2020\", \"4/2/2020\", \"4/3/2020\", \"4/6/2020\", \"4/7/2020\", \"4/8/2020\", \"4/9/2020\", \"4/13/2020\", \"4/14/2020\", \"4/15/2020\", \"4/16/2020\", \"4/17/2020\", \"4/20/2020\", \"4/21/2020\", \"4/22/2020\", \"4/23/2020\", \"4/24/2020\", \"4/27/2020\", \"4/28/2020\", \"4/29/2020\", \"4/30/2020\", \"5/1/2020\", \"5/4/2020\", \"5/5/2020\", \"5/6/2020\", \"5/7/2020\", \"5/8/2020\", \"5/11/2020\", \"5/12/2020\", \"5/13/2020\", \"5/14/2020\", \"5/15/2020\", \"5/18/2020\", \"5/19/2020\", \"5/20/2020\", \"5/21/2020\", \"5/22/2020\", \"5/26/2020\", \"5/27/2020\", \"5/28/2020\", \"5/29/2020\", \"6/1/2020\", \"6/2/2020\", \"6/3/2020\", \"6/4/2020\", \"6/5/2020\"], \"y\": [72.83000200000001, 72.83000200000001, 72.83000200000001, 72.83000200000001, 72.83000200000001, 72.83000200000001, 72.83000200000001, 72.83000200000001, 72.83000200000001, 72.83000200000001, 72.83000200000001, 72.83000200000001, 76.41794696584768, 79.95363598972742, 82.78393032179585, 87.77395955676052, 89.88143851768879, 92.85107390031362, 86.46766986503663, 81.46893638642612, 79.58787574690453, 81.70406591835703, 79.00440142632078, 80.12781143206313, 80.12781143206313, 80.12781143206313, 80.12781143206313, 80.12781143206313, 80.12781143206313, 80.12781143206313, 80.12781143206313, 80.12781143206313, 80.12781143206313, 80.12781143206313, 80.12781143206313, 80.12781143206313, 80.12781143206313, 80.12781143206313, 80.12781143206313, 80.12781143206313, 80.12781143206313, 80.12781143206313, 80.12781143206313, 80.12781143206313, 80.12781143206313, 80.12781143206313, 80.12781143206313, 80.12781143206313, 80.12781143206313, 80.12781143206313, 80.12781143206313, 80.12781143206313, 80.12781143206313, 80.12781143206313, 80.12781143206313, 80.12781143206313, 80.12781143206313, 80.12781143206313, 80.12781143206313, 80.12781143206313, 80.12781143206313, 79.51537082741314, 74.50100165432096, 76.22349827118747, 74.88377782967757, 79.45157479818704, 77.63976501632457, 82.06721199645719, 84.10868237985127, 82.79448545371417, 85.16769901684575, 85.2314988738336, 87.4005600397593, 90.79451389827025, 94.67330354377313, 95.15815974549444, 96.96996442367455, 94.34157057140034, 94.41812325463049, 97.21239188657492, 97.30170632749146, 104.30650778467624, 101.90778091353657, 100.044938136055, 99.40697784379398, 99.73870954024619, 100.41494617412229, 103.10713988338436, 105.85037041602732, 104.75307743741779, 105.37827597199242, 102.17572296036563, 100.75944983562557, 99.45800573573077, 98.50106529733924, 99.77698588186126, 99.77698588186126, 99.77698588186126, 99.77698588186126, 99.77698588186126, 99.77698588186126, 99.77698588186126, 99.77698588186126, 99.77698588186126, 99.77698588186126, 106.48250007725024, 98.7854096329613, 102.10717761014625]}, {\"line\": {\"color\": \"orange\"}, \"mode\": \"lines\", \"name\": \"closingprice\", \"type\": \"scatter\", \"x\": [\"1/2/2020\", \"1/3/2020\", \"1/6/2020\", \"1/7/2020\", \"1/8/2020\", \"1/9/2020\", \"1/10/2020\", \"1/13/2020\", \"1/14/2020\", \"1/15/2020\", \"1/16/2020\", \"1/17/2020\", \"1/21/2020\", \"1/22/2020\", \"1/23/2020\", \"1/24/2020\", \"1/27/2020\", \"1/28/2020\", \"1/29/2020\", \"1/30/2020\", \"1/31/2020\", \"2/3/2020\", \"2/4/2020\", \"2/5/2020\", \"2/6/2020\", \"2/7/2020\", \"2/10/2020\", \"2/11/2020\", \"2/12/2020\", \"2/13/2020\", \"2/14/2020\", \"2/18/2020\", \"2/19/2020\", \"2/20/2020\", \"2/21/2020\", \"2/24/2020\", \"2/25/2020\", \"2/26/2020\", \"2/27/2020\", \"2/28/2020\", \"3/2/2020\", \"3/3/2020\", \"3/4/2020\", \"3/5/2020\", \"3/6/2020\", \"3/9/2020\", \"3/10/2020\", \"3/11/2020\", \"3/12/2020\", \"3/13/2020\", \"3/16/2020\", \"3/17/2020\", \"3/18/2020\", \"3/19/2020\", \"3/20/2020\", \"3/23/2020\", \"3/24/2020\", \"3/25/2020\", \"3/26/2020\", \"3/27/2020\", \"3/30/2020\", \"3/31/2020\", \"4/1/2020\", \"4/2/2020\", \"4/3/2020\", \"4/6/2020\", \"4/7/2020\", \"4/8/2020\", \"4/9/2020\", \"4/13/2020\", \"4/14/2020\", \"4/15/2020\", \"4/16/2020\", \"4/17/2020\", \"4/20/2020\", \"4/21/2020\", \"4/22/2020\", \"4/23/2020\", \"4/24/2020\", \"4/27/2020\", \"4/28/2020\", \"4/29/2020\", \"4/30/2020\", \"5/1/2020\", \"5/4/2020\", \"5/5/2020\", \"5/6/2020\", \"5/7/2020\", \"5/8/2020\", \"5/11/2020\", \"5/12/2020\", \"5/13/2020\", \"5/14/2020\", \"5/15/2020\", \"5/18/2020\", \"5/19/2020\", \"5/20/2020\", \"5/21/2020\", \"5/22/2020\", \"5/26/2020\", \"5/27/2020\", \"5/28/2020\", \"5/29/2020\", \"6/1/2020\", \"6/2/2020\", \"6/3/2020\", \"6/4/2020\", \"6/5/2020\"], \"y\": [72.83000200000001, 75.559998, 75.550003, 75.980003, 74.839996, 77.16999799999999, 79.75, 83.720001, 84.610001, 85.800003, 85.889999, 83.629997, 87.75, 91.809998, 95.059998, 100.790001, 103.209999, 106.620003, 99.290001, 93.550003, 91.389999, 93.82, 90.720001, 92.010002, 91.190002, 88.980003, 88.370003, 87.25, 86.660004, 86.769997, 92.57, 90.220001, 90.599998, 85.440002, 82.0, 79.949997, 73.57, 75.18, 72.730003, 79.699997, 79.370003, 76.949997, 77.41999799999999, 72.589996, 71.279999, 65.290001, 66.5, 60.759997999999996, 59.599998, 57.360001000000004, 55.549999, 59.880001, 58.0, 55.0, 55.779999, 51.57, 57.110001000000004, 59.990002000000004, 61.040001000000004, 59.990002000000004, 62.799999, 62.32, 58.389998999999996, 59.740002000000004, 58.689999, 62.27, 60.849998, 64.32, 65.91999799999999, 64.889999, 66.75, 66.800003, 68.5, 71.160004, 74.199997, 74.58000200000001, 76.0, 73.940002, 74.0, 76.190002, 76.260002, 81.75, 79.870003, 78.410004, 77.910004, 78.16999799999999, 78.699997, 80.809998, 82.959999, 82.099998, 82.589996, 80.08000200000001, 78.970001, 77.949997, 77.199997, 78.199997, 78.0, 76.0, 74.849998, 76.0, 77.660004, 76.290001, 77.970001, 81.949997, 80.5, 85.910004, 79.699997, 82.379997]}],\n",
       "                        {\"autosize\": false, \"height\": 500, \"template\": {\"data\": {\"bar\": [{\"error_x\": {\"color\": \"#2a3f5f\"}, \"error_y\": {\"color\": \"#2a3f5f\"}, \"marker\": {\"line\": {\"color\": \"#E5ECF6\", \"width\": 0.5}}, \"type\": \"bar\"}], \"barpolar\": [{\"marker\": {\"line\": {\"color\": \"#E5ECF6\", \"width\": 0.5}}, \"type\": \"barpolar\"}], \"carpet\": [{\"aaxis\": {\"endlinecolor\": \"#2a3f5f\", \"gridcolor\": \"white\", \"linecolor\": \"white\", \"minorgridcolor\": \"white\", \"startlinecolor\": \"#2a3f5f\"}, \"baxis\": {\"endlinecolor\": \"#2a3f5f\", \"gridcolor\": \"white\", \"linecolor\": \"white\", \"minorgridcolor\": \"white\", \"startlinecolor\": \"#2a3f5f\"}, \"type\": \"carpet\"}], \"choropleth\": [{\"colorbar\": {\"outlinewidth\": 0, \"ticks\": \"\"}, \"type\": \"choropleth\"}], \"contour\": [{\"colorbar\": {\"outlinewidth\": 0, \"ticks\": \"\"}, \"colorscale\": [[0.0, \"#0d0887\"], [0.1111111111111111, \"#46039f\"], [0.2222222222222222, \"#7201a8\"], [0.3333333333333333, \"#9c179e\"], [0.4444444444444444, \"#bd3786\"], [0.5555555555555556, \"#d8576b\"], [0.6666666666666666, \"#ed7953\"], [0.7777777777777778, \"#fb9f3a\"], [0.8888888888888888, \"#fdca26\"], [1.0, \"#f0f921\"]], \"type\": \"contour\"}], \"contourcarpet\": [{\"colorbar\": {\"outlinewidth\": 0, \"ticks\": \"\"}, \"type\": \"contourcarpet\"}], \"heatmap\": [{\"colorbar\": {\"outlinewidth\": 0, \"ticks\": \"\"}, \"colorscale\": [[0.0, \"#0d0887\"], [0.1111111111111111, \"#46039f\"], [0.2222222222222222, \"#7201a8\"], [0.3333333333333333, \"#9c179e\"], [0.4444444444444444, \"#bd3786\"], [0.5555555555555556, \"#d8576b\"], [0.6666666666666666, \"#ed7953\"], [0.7777777777777778, \"#fb9f3a\"], [0.8888888888888888, \"#fdca26\"], [1.0, \"#f0f921\"]], \"type\": \"heatmap\"}], \"heatmapgl\": [{\"colorbar\": {\"outlinewidth\": 0, \"ticks\": \"\"}, \"colorscale\": [[0.0, \"#0d0887\"], [0.1111111111111111, \"#46039f\"], [0.2222222222222222, \"#7201a8\"], [0.3333333333333333, \"#9c179e\"], [0.4444444444444444, \"#bd3786\"], [0.5555555555555556, \"#d8576b\"], [0.6666666666666666, \"#ed7953\"], [0.7777777777777778, \"#fb9f3a\"], [0.8888888888888888, \"#fdca26\"], [1.0, \"#f0f921\"]], \"type\": \"heatmapgl\"}], \"histogram\": [{\"marker\": {\"colorbar\": {\"outlinewidth\": 0, \"ticks\": \"\"}}, \"type\": \"histogram\"}], \"histogram2d\": [{\"colorbar\": {\"outlinewidth\": 0, \"ticks\": \"\"}, \"colorscale\": [[0.0, \"#0d0887\"], [0.1111111111111111, \"#46039f\"], [0.2222222222222222, \"#7201a8\"], [0.3333333333333333, \"#9c179e\"], [0.4444444444444444, \"#bd3786\"], [0.5555555555555556, \"#d8576b\"], [0.6666666666666666, \"#ed7953\"], [0.7777777777777778, \"#fb9f3a\"], [0.8888888888888888, \"#fdca26\"], [1.0, \"#f0f921\"]], \"type\": \"histogram2d\"}], \"histogram2dcontour\": [{\"colorbar\": {\"outlinewidth\": 0, \"ticks\": \"\"}, \"colorscale\": [[0.0, \"#0d0887\"], [0.1111111111111111, \"#46039f\"], [0.2222222222222222, \"#7201a8\"], [0.3333333333333333, \"#9c179e\"], [0.4444444444444444, \"#bd3786\"], [0.5555555555555556, \"#d8576b\"], [0.6666666666666666, \"#ed7953\"], [0.7777777777777778, \"#fb9f3a\"], [0.8888888888888888, \"#fdca26\"], [1.0, \"#f0f921\"]], \"type\": \"histogram2dcontour\"}], \"mesh3d\": [{\"colorbar\": {\"outlinewidth\": 0, \"ticks\": \"\"}, \"type\": \"mesh3d\"}], \"parcoords\": [{\"line\": {\"colorbar\": {\"outlinewidth\": 0, \"ticks\": \"\"}}, \"type\": \"parcoords\"}], \"pie\": [{\"automargin\": true, \"type\": \"pie\"}], \"scatter\": [{\"marker\": {\"colorbar\": {\"outlinewidth\": 0, \"ticks\": \"\"}}, \"type\": \"scatter\"}], \"scatter3d\": [{\"line\": {\"colorbar\": {\"outlinewidth\": 0, \"ticks\": \"\"}}, \"marker\": {\"colorbar\": {\"outlinewidth\": 0, \"ticks\": \"\"}}, \"type\": \"scatter3d\"}], \"scattercarpet\": [{\"marker\": {\"colorbar\": {\"outlinewidth\": 0, \"ticks\": \"\"}}, \"type\": \"scattercarpet\"}], \"scattergeo\": [{\"marker\": {\"colorbar\": {\"outlinewidth\": 0, \"ticks\": \"\"}}, \"type\": \"scattergeo\"}], \"scattergl\": [{\"marker\": {\"colorbar\": {\"outlinewidth\": 0, \"ticks\": \"\"}}, \"type\": \"scattergl\"}], \"scattermapbox\": [{\"marker\": {\"colorbar\": {\"outlinewidth\": 0, \"ticks\": \"\"}}, \"type\": \"scattermapbox\"}], \"scatterpolar\": [{\"marker\": {\"colorbar\": {\"outlinewidth\": 0, \"ticks\": \"\"}}, \"type\": \"scatterpolar\"}], \"scatterpolargl\": [{\"marker\": {\"colorbar\": {\"outlinewidth\": 0, \"ticks\": \"\"}}, \"type\": \"scatterpolargl\"}], \"scatterternary\": [{\"marker\": {\"colorbar\": {\"outlinewidth\": 0, \"ticks\": \"\"}}, \"type\": \"scatterternary\"}], \"surface\": [{\"colorbar\": {\"outlinewidth\": 0, \"ticks\": \"\"}, \"colorscale\": [[0.0, \"#0d0887\"], [0.1111111111111111, \"#46039f\"], [0.2222222222222222, \"#7201a8\"], [0.3333333333333333, \"#9c179e\"], [0.4444444444444444, \"#bd3786\"], [0.5555555555555556, \"#d8576b\"], [0.6666666666666666, \"#ed7953\"], [0.7777777777777778, \"#fb9f3a\"], [0.8888888888888888, \"#fdca26\"], [1.0, \"#f0f921\"]], \"type\": \"surface\"}], \"table\": [{\"cells\": {\"fill\": {\"color\": \"#EBF0F8\"}, \"line\": {\"color\": \"white\"}}, \"header\": {\"fill\": {\"color\": \"#C8D4E3\"}, \"line\": {\"color\": \"white\"}}, \"type\": \"table\"}]}, \"layout\": {\"annotationdefaults\": {\"arrowcolor\": \"#2a3f5f\", \"arrowhead\": 0, \"arrowwidth\": 1}, \"coloraxis\": {\"colorbar\": {\"outlinewidth\": 0, \"ticks\": \"\"}}, \"colorscale\": {\"diverging\": [[0, \"#8e0152\"], [0.1, \"#c51b7d\"], [0.2, \"#de77ae\"], [0.3, \"#f1b6da\"], [0.4, \"#fde0ef\"], [0.5, \"#f7f7f7\"], [0.6, \"#e6f5d0\"], [0.7, \"#b8e186\"], [0.8, \"#7fbc41\"], [0.9, \"#4d9221\"], [1, \"#276419\"]], \"sequential\": [[0.0, \"#0d0887\"], [0.1111111111111111, \"#46039f\"], [0.2222222222222222, \"#7201a8\"], [0.3333333333333333, \"#9c179e\"], [0.4444444444444444, \"#bd3786\"], [0.5555555555555556, \"#d8576b\"], [0.6666666666666666, \"#ed7953\"], [0.7777777777777778, \"#fb9f3a\"], [0.8888888888888888, \"#fdca26\"], [1.0, \"#f0f921\"]], \"sequentialminus\": [[0.0, \"#0d0887\"], [0.1111111111111111, \"#46039f\"], [0.2222222222222222, \"#7201a8\"], [0.3333333333333333, \"#9c179e\"], [0.4444444444444444, \"#bd3786\"], [0.5555555555555556, \"#d8576b\"], [0.6666666666666666, \"#ed7953\"], [0.7777777777777778, \"#fb9f3a\"], [0.8888888888888888, \"#fdca26\"], [1.0, \"#f0f921\"]]}, \"colorway\": [\"#636efa\", \"#EF553B\", \"#00cc96\", \"#ab63fa\", \"#FFA15A\", \"#19d3f3\", \"#FF6692\", \"#B6E880\", \"#FF97FF\", \"#FECB52\"], \"font\": {\"color\": \"#2a3f5f\"}, \"geo\": {\"bgcolor\": \"white\", \"lakecolor\": \"white\", \"landcolor\": \"#E5ECF6\", \"showlakes\": true, \"showland\": true, \"subunitcolor\": \"white\"}, \"hoverlabel\": {\"align\": \"left\"}, \"hovermode\": \"closest\", \"mapbox\": {\"style\": \"light\"}, \"paper_bgcolor\": \"white\", \"plot_bgcolor\": \"#E5ECF6\", \"polar\": {\"angularaxis\": {\"gridcolor\": \"white\", \"linecolor\": \"white\", \"ticks\": \"\"}, \"bgcolor\": \"#E5ECF6\", \"radialaxis\": {\"gridcolor\": \"white\", \"linecolor\": \"white\", \"ticks\": \"\"}}, \"scene\": {\"xaxis\": {\"backgroundcolor\": \"#E5ECF6\", \"gridcolor\": \"white\", \"gridwidth\": 2, \"linecolor\": \"white\", \"showbackground\": true, \"ticks\": \"\", \"zerolinecolor\": \"white\"}, \"yaxis\": {\"backgroundcolor\": \"#E5ECF6\", \"gridcolor\": \"white\", \"gridwidth\": 2, \"linecolor\": \"white\", \"showbackground\": true, \"ticks\": \"\", \"zerolinecolor\": \"white\"}, \"zaxis\": {\"backgroundcolor\": \"#E5ECF6\", \"gridcolor\": \"white\", \"gridwidth\": 2, \"linecolor\": \"white\", \"showbackground\": true, \"ticks\": \"\", \"zerolinecolor\": \"white\"}}, \"shapedefaults\": {\"line\": {\"color\": \"#2a3f5f\"}}, \"ternary\": {\"aaxis\": {\"gridcolor\": \"white\", \"linecolor\": \"white\", \"ticks\": \"\"}, \"baxis\": {\"gridcolor\": \"white\", \"linecolor\": \"white\", \"ticks\": \"\"}, \"bgcolor\": \"#E5ECF6\", \"caxis\": {\"gridcolor\": \"white\", \"linecolor\": \"white\", \"ticks\": \"\"}}, \"title\": {\"x\": 0.05}, \"xaxis\": {\"automargin\": true, \"gridcolor\": \"white\", \"linecolor\": \"white\", \"ticks\": \"\", \"title\": {\"standoff\": 15}, \"zerolinecolor\": \"white\", \"zerolinewidth\": 2}, \"yaxis\": {\"automargin\": true, \"gridcolor\": \"white\", \"linecolor\": \"white\", \"ticks\": \"\", \"title\": {\"standoff\": 15}, \"zerolinecolor\": \"white\", \"zerolinewidth\": 2}}}, \"title\": {\"text\": \"TXG\", \"x\": 0.5, \"xanchor\": \"center\", \"y\": 0.9, \"yanchor\": \"top\"}, \"width\": 800, \"yaxis\": {\"title\": {\"text\": \"Price\"}}},\n",
       "                        {\"responsive\": true}\n",
       "                    ).then(function(){\n",
       "                            \n",
       "var gd = document.getElementById('6e29518f-ec1c-4c53-8a49-3219ee0b207f');\n",
       "var x = new MutationObserver(function (mutations, observer) {{\n",
       "        var display = window.getComputedStyle(gd).display;\n",
       "        if (!display || display === 'none') {{\n",
       "            console.log([gd, 'removed!']);\n",
       "            Plotly.purge(gd);\n",
       "            observer.disconnect();\n",
       "        }}\n",
       "}});\n",
       "\n",
       "// Listen for the removal of the full notebook cells\n",
       "var notebookContainer = gd.closest('#notebook-container');\n",
       "if (notebookContainer) {{\n",
       "    x.observe(notebookContainer, {childList: true});\n",
       "}}\n",
       "\n",
       "// Listen for the clearing of the current output cell\n",
       "var outputEl = gd.closest('.output');\n",
       "if (outputEl) {{\n",
       "    x.observe(outputEl, {childList: true});\n",
       "}}\n",
       "\n",
       "                        })\n",
       "                };\n",
       "                });\n",
       "            </script>\n",
       "        </div>"
      ]
     },
     "metadata": {},
     "output_type": "display_data"
    }
   ],
   "source": [
    "ma_fast = 5\n",
    "ma_slow = 10\n",
    "SMA_5 = price.rolling(window = ma_fast).mean()\n",
    "SMA_10 = price.rolling(window = ma_slow).mean()\n",
    "MA = pd.DataFrame({'MA_5':SMA_5, 'MA_10':SMA_10,'holdingvalue':portfolio_MA,'Date':data_TXG['Date'],'TXG.close':data_TXG['TXG.Close']})\n",
    "\n",
    "fig = go.Figure()\n",
    "fig.add_trace(go.Scatter(x = MA['Date'], y = MA['MA_5'], mode = 'lines', name = 'MA_5'))\n",
    "fig.add_trace(go.Scatter(x = MA['Date'], y = MA['MA_10'], mode = 'lines', name = 'MA_10'))\n",
    "fig.add_trace(go.Scatter(x = MA['Date'], y = MA['holdingvalue'], mode = 'lines', name = 'holdvalue'))\n",
    "fig.add_trace(go.Scatter(x = MA['Date'], y = MA['TXG.close'], mode = 'lines', name = 'closingprice', line = dict(color = \"orange\")))\n",
    "fig.update_layout(autosize = False, width = 800, height = 500, yaxis_title = \"Price\",\n",
    "                 title={'text': \"TXG\",'y':0.9,'x':0.5,'xanchor': 'center','yanchor': 'top'})\n",
    "fig.show()"
   ]
  }
 ],
 "metadata": {
  "kernelspec": {
   "display_name": "Python 3",
   "language": "python",
   "name": "python3"
  },
  "language_info": {
   "codemirror_mode": {
    "name": "ipython",
    "version": 3
   },
   "file_extension": ".py",
   "mimetype": "text/x-python",
   "name": "python",
   "nbconvert_exporter": "python",
   "pygments_lexer": "ipython3",
   "version": "3.7.6"
  }
 },
 "nbformat": 4,
 "nbformat_minor": 4
}
